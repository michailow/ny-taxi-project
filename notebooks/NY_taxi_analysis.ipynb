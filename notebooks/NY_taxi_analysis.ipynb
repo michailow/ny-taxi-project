{
 "cells": [
  {
   "cell_type": "markdown",
   "id": "7cad08bd",
   "metadata": {},
   "source": [
    "## NYC Yellow and green taxi trip records analysis\n",
    "In this notebook, an analysis will be carried out based on New York taxi data.<br>\n",
    "The goal will be to study the data set to create statistics sets. After that, based on the received data, we will create data sets for the statistics of the report that will be used in API"
   ]
  },
  {
   "cell_type": "markdown",
   "id": "4646eee1",
   "metadata": {},
   "source": [
    "Content:\n",
    "1. Analysis and data visualisation\n",
    "2. Data preparation\n",
    "3. Machine learning model creation\n",
    "4. Model implementation\n",
    "5. Functions preparation"
   ]
  },
  {
   "cell_type": "code",
   "execution_count": 54,
   "id": "ca04db1b",
   "metadata": {},
   "outputs": [],
   "source": [
    "import numpy as np\n",
    "import pandas as pd\n",
    "import pyarrow\n",
    "from datetime import datetime\n",
    "import datetime as dt"
   ]
  },
  {
   "cell_type": "code",
   "execution_count": 55,
   "id": "72c30f81",
   "metadata": {},
   "outputs": [],
   "source": [
    "import matplotlib\n",
    "import matplotlib.pyplot as plt\n",
    "import seaborn as sns\n",
    "from matplotlib.gridspec import GridSpec"
   ]
  },
  {
   "cell_type": "code",
   "execution_count": 56,
   "id": "dc0e3a4b",
   "metadata": {},
   "outputs": [
    {
     "name": "stdout",
     "output_type": "stream",
     "text": [
      "1.20.3\n",
      "1.3.2\n",
      "9.0.0\n",
      "3.4.3\n",
      "0.11.2\n"
     ]
    }
   ],
   "source": [
    "print(np.__version__)\n",
    "print(pd.__version__)\n",
    "print(pyarrow.__version__)\n",
    "print(matplotlib.__version__)\n",
    "print(sns.__version__)"
   ]
  },
  {
   "cell_type": "code",
   "execution_count": 57,
   "id": "0d1b898e",
   "metadata": {},
   "outputs": [],
   "source": [
    "import warnings\n",
    "warnings.filterwarnings('ignore')"
   ]
  },
  {
   "cell_type": "code",
   "execution_count": 58,
   "id": "e2ce720b",
   "metadata": {},
   "outputs": [],
   "source": [
    "pd.set_option('display.max_rows', 500)\n",
    "pd.set_option('display.max_columns', 500)\n",
    "pd.set_option('display.width', 1000)"
   ]
  },
  {
   "cell_type": "code",
   "execution_count": 59,
   "id": "ef0ca129",
   "metadata": {},
   "outputs": [],
   "source": [
    "df = pd.read_parquet(\"../data/yellow_tripdata_2022-05.parquet\")"
   ]
  },
  {
   "cell_type": "code",
   "execution_count": 60,
   "id": "752e69bc",
   "metadata": {},
   "outputs": [],
   "source": [
    "#temp\n",
    "#df = df.iloc[0:300000]"
   ]
  },
  {
   "cell_type": "code",
   "execution_count": 61,
   "id": "6449ceab",
   "metadata": {},
   "outputs": [
    {
     "data": {
      "text/html": [
       "<div>\n",
       "<style scoped>\n",
       "    .dataframe tbody tr th:only-of-type {\n",
       "        vertical-align: middle;\n",
       "    }\n",
       "\n",
       "    .dataframe tbody tr th {\n",
       "        vertical-align: top;\n",
       "    }\n",
       "\n",
       "    .dataframe thead th {\n",
       "        text-align: right;\n",
       "    }\n",
       "</style>\n",
       "<table border=\"1\" class=\"dataframe\">\n",
       "  <thead>\n",
       "    <tr style=\"text-align: right;\">\n",
       "      <th></th>\n",
       "      <th>VendorID</th>\n",
       "      <th>tpep_pickup_datetime</th>\n",
       "      <th>tpep_dropoff_datetime</th>\n",
       "      <th>passenger_count</th>\n",
       "      <th>trip_distance</th>\n",
       "      <th>RatecodeID</th>\n",
       "      <th>store_and_fwd_flag</th>\n",
       "      <th>PULocationID</th>\n",
       "      <th>DOLocationID</th>\n",
       "      <th>payment_type</th>\n",
       "      <th>fare_amount</th>\n",
       "      <th>extra</th>\n",
       "      <th>mta_tax</th>\n",
       "      <th>tip_amount</th>\n",
       "      <th>tolls_amount</th>\n",
       "      <th>improvement_surcharge</th>\n",
       "      <th>total_amount</th>\n",
       "      <th>congestion_surcharge</th>\n",
       "      <th>airport_fee</th>\n",
       "    </tr>\n",
       "  </thead>\n",
       "  <tbody>\n",
       "    <tr>\n",
       "      <th>0</th>\n",
       "      <td>1</td>\n",
       "      <td>2022-05-01 00:00:36</td>\n",
       "      <td>2022-05-01 00:19:18</td>\n",
       "      <td>1.0</td>\n",
       "      <td>4.1</td>\n",
       "      <td>1.0</td>\n",
       "      <td>N</td>\n",
       "      <td>246</td>\n",
       "      <td>151</td>\n",
       "      <td>2</td>\n",
       "      <td>17.0</td>\n",
       "      <td>3.0</td>\n",
       "      <td>0.5</td>\n",
       "      <td>0.00</td>\n",
       "      <td>0.0</td>\n",
       "      <td>0.3</td>\n",
       "      <td>20.80</td>\n",
       "      <td>2.5</td>\n",
       "      <td>0.0</td>\n",
       "    </tr>\n",
       "    <tr>\n",
       "      <th>1</th>\n",
       "      <td>1</td>\n",
       "      <td>2022-05-01 00:27:44</td>\n",
       "      <td>2022-05-01 00:41:33</td>\n",
       "      <td>1.0</td>\n",
       "      <td>2.3</td>\n",
       "      <td>1.0</td>\n",
       "      <td>N</td>\n",
       "      <td>238</td>\n",
       "      <td>74</td>\n",
       "      <td>2</td>\n",
       "      <td>11.0</td>\n",
       "      <td>3.0</td>\n",
       "      <td>0.5</td>\n",
       "      <td>0.00</td>\n",
       "      <td>0.0</td>\n",
       "      <td>0.3</td>\n",
       "      <td>14.80</td>\n",
       "      <td>2.5</td>\n",
       "      <td>0.0</td>\n",
       "    </tr>\n",
       "    <tr>\n",
       "      <th>2</th>\n",
       "      <td>1</td>\n",
       "      <td>2022-05-01 00:59:00</td>\n",
       "      <td>2022-05-01 01:14:22</td>\n",
       "      <td>1.0</td>\n",
       "      <td>4.2</td>\n",
       "      <td>1.0</td>\n",
       "      <td>N</td>\n",
       "      <td>163</td>\n",
       "      <td>260</td>\n",
       "      <td>2</td>\n",
       "      <td>15.5</td>\n",
       "      <td>3.0</td>\n",
       "      <td>0.5</td>\n",
       "      <td>0.00</td>\n",
       "      <td>0.0</td>\n",
       "      <td>0.3</td>\n",
       "      <td>19.30</td>\n",
       "      <td>2.5</td>\n",
       "      <td>0.0</td>\n",
       "    </tr>\n",
       "    <tr>\n",
       "      <th>3</th>\n",
       "      <td>1</td>\n",
       "      <td>2022-05-01 00:48:18</td>\n",
       "      <td>2022-05-01 01:28:02</td>\n",
       "      <td>1.0</td>\n",
       "      <td>0.0</td>\n",
       "      <td>1.0</td>\n",
       "      <td>N</td>\n",
       "      <td>79</td>\n",
       "      <td>182</td>\n",
       "      <td>1</td>\n",
       "      <td>41.2</td>\n",
       "      <td>0.0</td>\n",
       "      <td>0.5</td>\n",
       "      <td>0.00</td>\n",
       "      <td>0.0</td>\n",
       "      <td>0.3</td>\n",
       "      <td>42.00</td>\n",
       "      <td>0.0</td>\n",
       "      <td>0.0</td>\n",
       "    </tr>\n",
       "    <tr>\n",
       "      <th>4</th>\n",
       "      <td>1</td>\n",
       "      <td>2022-05-01 00:28:26</td>\n",
       "      <td>2022-05-01 00:37:49</td>\n",
       "      <td>1.0</td>\n",
       "      <td>1.6</td>\n",
       "      <td>1.0</td>\n",
       "      <td>N</td>\n",
       "      <td>238</td>\n",
       "      <td>75</td>\n",
       "      <td>1</td>\n",
       "      <td>7.5</td>\n",
       "      <td>3.0</td>\n",
       "      <td>0.5</td>\n",
       "      <td>2.25</td>\n",
       "      <td>0.0</td>\n",
       "      <td>0.3</td>\n",
       "      <td>13.55</td>\n",
       "      <td>2.5</td>\n",
       "      <td>0.0</td>\n",
       "    </tr>\n",
       "  </tbody>\n",
       "</table>\n",
       "</div>"
      ],
      "text/plain": [
       "   VendorID tpep_pickup_datetime tpep_dropoff_datetime  passenger_count  trip_distance  RatecodeID store_and_fwd_flag  PULocationID  DOLocationID  payment_type  fare_amount  extra  mta_tax  tip_amount  tolls_amount  improvement_surcharge  total_amount  congestion_surcharge  airport_fee\n",
       "0         1  2022-05-01 00:00:36   2022-05-01 00:19:18              1.0            4.1         1.0                  N           246           151             2         17.0    3.0      0.5        0.00           0.0                    0.3         20.80                   2.5          0.0\n",
       "1         1  2022-05-01 00:27:44   2022-05-01 00:41:33              1.0            2.3         1.0                  N           238            74             2         11.0    3.0      0.5        0.00           0.0                    0.3         14.80                   2.5          0.0\n",
       "2         1  2022-05-01 00:59:00   2022-05-01 01:14:22              1.0            4.2         1.0                  N           163           260             2         15.5    3.0      0.5        0.00           0.0                    0.3         19.30                   2.5          0.0\n",
       "3         1  2022-05-01 00:48:18   2022-05-01 01:28:02              1.0            0.0         1.0                  N            79           182             1         41.2    0.0      0.5        0.00           0.0                    0.3         42.00                   0.0          0.0\n",
       "4         1  2022-05-01 00:28:26   2022-05-01 00:37:49              1.0            1.6         1.0                  N           238            75             1          7.5    3.0      0.5        2.25           0.0                    0.3         13.55                   2.5          0.0"
      ]
     },
     "execution_count": 61,
     "metadata": {},
     "output_type": "execute_result"
    }
   ],
   "source": [
    "df.head()"
   ]
  },
  {
   "cell_type": "code",
   "execution_count": 62,
   "id": "7bfc78c6",
   "metadata": {},
   "outputs": [],
   "source": [
    "#convert miles to km\n",
    "df['trip_distance'] = df['trip_distance'] * 1.60934"
   ]
  },
  {
   "cell_type": "markdown",
   "id": "4f7518cf",
   "metadata": {},
   "source": [
    "Primary Analysis"
   ]
  },
  {
   "cell_type": "code",
   "execution_count": 63,
   "id": "b33a10ab",
   "metadata": {},
   "outputs": [
    {
     "name": "stdout",
     "output_type": "stream",
     "text": [
      "We have 3588295 rows and 19 colums\n",
      "There are missing values\n",
      "The store_and_fwd_flag has values {'Y', 'N', None}.\n"
     ]
    }
   ],
   "source": [
    "print('We have {} rows and {} colums'.format(df.shape[0], df.shape[1]))\n",
    "print('No missing values.') if not df.isnull().values.any() else print('There are missing values')\n",
    "print('The store_and_fwd_flag has values {}.'.format(str(set(df.store_and_fwd_flag.unique()))))"
   ]
  },
  {
   "cell_type": "code",
   "execution_count": 64,
   "id": "873b94f1",
   "metadata": {},
   "outputs": [],
   "source": [
    "df['tpep_pickup_datetime'] = pd.to_datetime(df.tpep_pickup_datetime)\n",
    "df['tpep_dropoff_datetime'] = pd.to_datetime(df.tpep_dropoff_datetime)"
   ]
  },
  {
   "cell_type": "code",
   "execution_count": 65,
   "id": "59b617f2",
   "metadata": {},
   "outputs": [],
   "source": [
    "df['trip_duration_seconds'] = df.apply(lambda x: (x.tpep_dropoff_datetime - x.tpep_pickup_datetime).total_seconds(), axis=1)"
   ]
  },
  {
   "cell_type": "code",
   "execution_count": 66,
   "id": "2e19dafc",
   "metadata": {},
   "outputs": [],
   "source": [
    "df['trip_duration'] = df['tpep_dropoff_datetime'] - df['tpep_pickup_datetime']"
   ]
  },
  {
   "cell_type": "code",
   "execution_count": 67,
   "id": "716bb2d5",
   "metadata": {},
   "outputs": [
    {
     "data": {
      "text/html": [
       "<div>\n",
       "<style scoped>\n",
       "    .dataframe tbody tr th:only-of-type {\n",
       "        vertical-align: middle;\n",
       "    }\n",
       "\n",
       "    .dataframe tbody tr th {\n",
       "        vertical-align: top;\n",
       "    }\n",
       "\n",
       "    .dataframe thead th {\n",
       "        text-align: right;\n",
       "    }\n",
       "</style>\n",
       "<table border=\"1\" class=\"dataframe\">\n",
       "  <thead>\n",
       "    <tr style=\"text-align: right;\">\n",
       "      <th></th>\n",
       "      <th>VendorID</th>\n",
       "      <th>tpep_pickup_datetime</th>\n",
       "      <th>tpep_dropoff_datetime</th>\n",
       "      <th>passenger_count</th>\n",
       "      <th>trip_distance</th>\n",
       "      <th>RatecodeID</th>\n",
       "      <th>store_and_fwd_flag</th>\n",
       "      <th>PULocationID</th>\n",
       "      <th>DOLocationID</th>\n",
       "      <th>payment_type</th>\n",
       "      <th>fare_amount</th>\n",
       "      <th>extra</th>\n",
       "      <th>mta_tax</th>\n",
       "      <th>tip_amount</th>\n",
       "      <th>tolls_amount</th>\n",
       "      <th>improvement_surcharge</th>\n",
       "      <th>total_amount</th>\n",
       "      <th>congestion_surcharge</th>\n",
       "      <th>airport_fee</th>\n",
       "      <th>trip_duration_seconds</th>\n",
       "      <th>trip_duration</th>\n",
       "    </tr>\n",
       "  </thead>\n",
       "  <tbody>\n",
       "    <tr>\n",
       "      <th>0</th>\n",
       "      <td>1</td>\n",
       "      <td>2022-05-01 00:00:36</td>\n",
       "      <td>2022-05-01 00:19:18</td>\n",
       "      <td>1.0</td>\n",
       "      <td>6.598294</td>\n",
       "      <td>1.0</td>\n",
       "      <td>N</td>\n",
       "      <td>246</td>\n",
       "      <td>151</td>\n",
       "      <td>2</td>\n",
       "      <td>17.0</td>\n",
       "      <td>3.0</td>\n",
       "      <td>0.5</td>\n",
       "      <td>0.00</td>\n",
       "      <td>0.0</td>\n",
       "      <td>0.3</td>\n",
       "      <td>20.80</td>\n",
       "      <td>2.5</td>\n",
       "      <td>0.0</td>\n",
       "      <td>1122.0</td>\n",
       "      <td>0 days 00:18:42</td>\n",
       "    </tr>\n",
       "    <tr>\n",
       "      <th>1</th>\n",
       "      <td>1</td>\n",
       "      <td>2022-05-01 00:27:44</td>\n",
       "      <td>2022-05-01 00:41:33</td>\n",
       "      <td>1.0</td>\n",
       "      <td>3.701482</td>\n",
       "      <td>1.0</td>\n",
       "      <td>N</td>\n",
       "      <td>238</td>\n",
       "      <td>74</td>\n",
       "      <td>2</td>\n",
       "      <td>11.0</td>\n",
       "      <td>3.0</td>\n",
       "      <td>0.5</td>\n",
       "      <td>0.00</td>\n",
       "      <td>0.0</td>\n",
       "      <td>0.3</td>\n",
       "      <td>14.80</td>\n",
       "      <td>2.5</td>\n",
       "      <td>0.0</td>\n",
       "      <td>829.0</td>\n",
       "      <td>0 days 00:13:49</td>\n",
       "    </tr>\n",
       "    <tr>\n",
       "      <th>2</th>\n",
       "      <td>1</td>\n",
       "      <td>2022-05-01 00:59:00</td>\n",
       "      <td>2022-05-01 01:14:22</td>\n",
       "      <td>1.0</td>\n",
       "      <td>6.759228</td>\n",
       "      <td>1.0</td>\n",
       "      <td>N</td>\n",
       "      <td>163</td>\n",
       "      <td>260</td>\n",
       "      <td>2</td>\n",
       "      <td>15.5</td>\n",
       "      <td>3.0</td>\n",
       "      <td>0.5</td>\n",
       "      <td>0.00</td>\n",
       "      <td>0.0</td>\n",
       "      <td>0.3</td>\n",
       "      <td>19.30</td>\n",
       "      <td>2.5</td>\n",
       "      <td>0.0</td>\n",
       "      <td>922.0</td>\n",
       "      <td>0 days 00:15:22</td>\n",
       "    </tr>\n",
       "    <tr>\n",
       "      <th>3</th>\n",
       "      <td>1</td>\n",
       "      <td>2022-05-01 00:48:18</td>\n",
       "      <td>2022-05-01 01:28:02</td>\n",
       "      <td>1.0</td>\n",
       "      <td>0.000000</td>\n",
       "      <td>1.0</td>\n",
       "      <td>N</td>\n",
       "      <td>79</td>\n",
       "      <td>182</td>\n",
       "      <td>1</td>\n",
       "      <td>41.2</td>\n",
       "      <td>0.0</td>\n",
       "      <td>0.5</td>\n",
       "      <td>0.00</td>\n",
       "      <td>0.0</td>\n",
       "      <td>0.3</td>\n",
       "      <td>42.00</td>\n",
       "      <td>0.0</td>\n",
       "      <td>0.0</td>\n",
       "      <td>2384.0</td>\n",
       "      <td>0 days 00:39:44</td>\n",
       "    </tr>\n",
       "    <tr>\n",
       "      <th>4</th>\n",
       "      <td>1</td>\n",
       "      <td>2022-05-01 00:28:26</td>\n",
       "      <td>2022-05-01 00:37:49</td>\n",
       "      <td>1.0</td>\n",
       "      <td>2.574944</td>\n",
       "      <td>1.0</td>\n",
       "      <td>N</td>\n",
       "      <td>238</td>\n",
       "      <td>75</td>\n",
       "      <td>1</td>\n",
       "      <td>7.5</td>\n",
       "      <td>3.0</td>\n",
       "      <td>0.5</td>\n",
       "      <td>2.25</td>\n",
       "      <td>0.0</td>\n",
       "      <td>0.3</td>\n",
       "      <td>13.55</td>\n",
       "      <td>2.5</td>\n",
       "      <td>0.0</td>\n",
       "      <td>563.0</td>\n",
       "      <td>0 days 00:09:23</td>\n",
       "    </tr>\n",
       "  </tbody>\n",
       "</table>\n",
       "</div>"
      ],
      "text/plain": [
       "   VendorID tpep_pickup_datetime tpep_dropoff_datetime  passenger_count  trip_distance  RatecodeID store_and_fwd_flag  PULocationID  DOLocationID  payment_type  fare_amount  extra  mta_tax  tip_amount  tolls_amount  improvement_surcharge  total_amount  congestion_surcharge  airport_fee  trip_duration_seconds   trip_duration\n",
       "0         1  2022-05-01 00:00:36   2022-05-01 00:19:18              1.0       6.598294         1.0                  N           246           151             2         17.0    3.0      0.5        0.00           0.0                    0.3         20.80                   2.5          0.0                 1122.0 0 days 00:18:42\n",
       "1         1  2022-05-01 00:27:44   2022-05-01 00:41:33              1.0       3.701482         1.0                  N           238            74             2         11.0    3.0      0.5        0.00           0.0                    0.3         14.80                   2.5          0.0                  829.0 0 days 00:13:49\n",
       "2         1  2022-05-01 00:59:00   2022-05-01 01:14:22              1.0       6.759228         1.0                  N           163           260             2         15.5    3.0      0.5        0.00           0.0                    0.3         19.30                   2.5          0.0                  922.0 0 days 00:15:22\n",
       "3         1  2022-05-01 00:48:18   2022-05-01 01:28:02              1.0       0.000000         1.0                  N            79           182             1         41.2    0.0      0.5        0.00           0.0                    0.3         42.00                   0.0          0.0                 2384.0 0 days 00:39:44\n",
       "4         1  2022-05-01 00:28:26   2022-05-01 00:37:49              1.0       2.574944         1.0                  N           238            75             1          7.5    3.0      0.5        2.25           0.0                    0.3         13.55                   2.5          0.0                  563.0 0 days 00:09:23"
      ]
     },
     "execution_count": 67,
     "metadata": {},
     "output_type": "execute_result"
    }
   ],
   "source": [
    "df.head()"
   ]
  },
  {
   "cell_type": "code",
   "execution_count": null,
   "id": "b2086e8b",
   "metadata": {},
   "outputs": [],
   "source": []
  },
  {
   "cell_type": "code",
   "execution_count": 68,
   "id": "236fcedd",
   "metadata": {},
   "outputs": [
    {
     "name": "stdout",
     "output_type": "stream",
     "text": [
      "Max and min distance (km): 574844.419351, 0.0\n",
      "Max and min times (sec): 409413.0, -845.0\n"
     ]
    }
   ],
   "source": [
    "#convert the time data and see the maximum and minimum values\n",
    "print(\"Max and min distance (km): {}, {}\".format(df['trip_distance'].max(), df['trip_distance'].min()))\n",
    "print(\"Max and min times (sec): {}, {}\".format(df['trip_duration_seconds'].max(), df['trip_duration_seconds'].min()))"
   ]
  },
  {
   "cell_type": "markdown",
   "id": "b0cd4394",
   "metadata": {},
   "source": [
    "The data doens't looks normalized. To do this, clean their edges"
   ]
  },
  {
   "cell_type": "code",
   "execution_count": 69,
   "id": "9c402c99",
   "metadata": {},
   "outputs": [],
   "source": [
    "#Immediately discard the time data that is below zero\n",
    "df = df[df['trip_duration_seconds'] > 0]"
   ]
  },
  {
   "cell_type": "code",
   "execution_count": 70,
   "id": "f95ffb04",
   "metadata": {},
   "outputs": [
    {
     "data": {
      "image/png": "[encoded data removed]",
      "text/plain": [
       "<Figure size 432x288 with 1 Axes>"
      ]
     },
     "metadata": {
      "needs_background": "light"
     },
     "output_type": "display_data"
    }
   ],
   "source": [
    "#visualize the distribution\n",
    "df['log_trip_duration'] = np.log(df['trip_duration_seconds'].values + 1)\n",
    "plt.hist(df['log_trip_duration'].values, bins=100)\n",
    "plt.xlabel('log(trip_duration)')\n",
    "plt.ylabel('number of train records')\n",
    "plt.show()"
   ]
  },
  {
   "cell_type": "code",
   "execution_count": 71,
   "id": "3ebc7273",
   "metadata": {},
   "outputs": [
    {
     "data": {
      "image/png": "[encoded data removed]",
      "text/plain": [
       "<Figure size 432x288 with 1 Axes>"
      ]
     },
     "metadata": {
      "needs_background": "light"
     },
     "output_type": "display_data"
    }
   ],
   "source": [
    "#visualize the distribution\n",
    "df['log_trip_distance'] = np.log(df['trip_distance'].values + 1)\n",
    "plt.hist(df['log_trip_distance'].values, bins=100)\n",
    "plt.xlabel('log(trip_distance)')\n",
    "plt.ylabel('number of train records')\n",
    "plt.show()"
   ]
  },
  {
   "cell_type": "markdown",
   "id": "3f3a9ce2",
   "metadata": {},
   "source": [
    "As you can see from the graphs, the data still has outliers, so let's clean them up"
   ]
  },
  {
   "cell_type": "code",
   "execution_count": 72,
   "id": "773033da",
   "metadata": {},
   "outputs": [],
   "source": [
    "# remove outliers\n",
    "durLimits  = [np.percentile(df['trip_duration_seconds'], 2), np.percentile(df['trip_duration_seconds'], 98.5)]\n",
    "df = df[(df['trip_duration_seconds'] >= durLimits[0]) & (df['trip_duration_seconds'] <= durLimits[1])]\n",
    "\n",
    "distLimits  = [np.percentile(df['trip_distance'], 1), np.percentile(df['trip_distance'], 98.5)]\n",
    "df = df[(df['trip_distance'] >= distLimits[0]) & (df['trip_distance'] <= distLimits[1])]\n",
    "\n",
    "df = df.reset_index(drop=True)"
   ]
  },
  {
   "cell_type": "code",
   "execution_count": 73,
   "id": "517b28fa",
   "metadata": {},
   "outputs": [
    {
     "data": {
      "text/html": [
       "<div>\n",
       "<style scoped>\n",
       "    .dataframe tbody tr th:only-of-type {\n",
       "        vertical-align: middle;\n",
       "    }\n",
       "\n",
       "    .dataframe tbody tr th {\n",
       "        vertical-align: top;\n",
       "    }\n",
       "\n",
       "    .dataframe thead th {\n",
       "        text-align: right;\n",
       "    }\n",
       "</style>\n",
       "<table border=\"1\" class=\"dataframe\">\n",
       "  <thead>\n",
       "    <tr style=\"text-align: right;\">\n",
       "      <th></th>\n",
       "      <th>VendorID</th>\n",
       "      <th>tpep_pickup_datetime</th>\n",
       "      <th>tpep_dropoff_datetime</th>\n",
       "      <th>passenger_count</th>\n",
       "      <th>trip_distance</th>\n",
       "      <th>RatecodeID</th>\n",
       "      <th>store_and_fwd_flag</th>\n",
       "      <th>PULocationID</th>\n",
       "      <th>DOLocationID</th>\n",
       "      <th>payment_type</th>\n",
       "      <th>fare_amount</th>\n",
       "      <th>extra</th>\n",
       "      <th>mta_tax</th>\n",
       "      <th>tip_amount</th>\n",
       "      <th>tolls_amount</th>\n",
       "      <th>improvement_surcharge</th>\n",
       "      <th>total_amount</th>\n",
       "      <th>congestion_surcharge</th>\n",
       "      <th>airport_fee</th>\n",
       "      <th>trip_duration_seconds</th>\n",
       "      <th>trip_duration</th>\n",
       "      <th>log_trip_duration</th>\n",
       "      <th>log_trip_distance</th>\n",
       "    </tr>\n",
       "  </thead>\n",
       "  <tbody>\n",
       "    <tr>\n",
       "      <th>0</th>\n",
       "      <td>1</td>\n",
       "      <td>2022-05-01 00:00:36</td>\n",
       "      <td>2022-05-01 00:19:18</td>\n",
       "      <td>1.0</td>\n",
       "      <td>6.598294</td>\n",
       "      <td>1.0</td>\n",
       "      <td>N</td>\n",
       "      <td>246</td>\n",
       "      <td>151</td>\n",
       "      <td>2</td>\n",
       "      <td>17.0</td>\n",
       "      <td>3.0</td>\n",
       "      <td>0.5</td>\n",
       "      <td>0.00</td>\n",
       "      <td>0.0</td>\n",
       "      <td>0.3</td>\n",
       "      <td>20.80</td>\n",
       "      <td>2.5</td>\n",
       "      <td>0.0</td>\n",
       "      <td>1122.0</td>\n",
       "      <td>0 days 00:18:42</td>\n",
       "      <td>7.023759</td>\n",
       "      <td>2.027924</td>\n",
       "    </tr>\n",
       "    <tr>\n",
       "      <th>1</th>\n",
       "      <td>1</td>\n",
       "      <td>2022-05-01 00:27:44</td>\n",
       "      <td>2022-05-01 00:41:33</td>\n",
       "      <td>1.0</td>\n",
       "      <td>3.701482</td>\n",
       "      <td>1.0</td>\n",
       "      <td>N</td>\n",
       "      <td>238</td>\n",
       "      <td>74</td>\n",
       "      <td>2</td>\n",
       "      <td>11.0</td>\n",
       "      <td>3.0</td>\n",
       "      <td>0.5</td>\n",
       "      <td>0.00</td>\n",
       "      <td>0.0</td>\n",
       "      <td>0.3</td>\n",
       "      <td>14.80</td>\n",
       "      <td>2.5</td>\n",
       "      <td>0.0</td>\n",
       "      <td>829.0</td>\n",
       "      <td>0 days 00:13:49</td>\n",
       "      <td>6.721426</td>\n",
       "      <td>1.547878</td>\n",
       "    </tr>\n",
       "    <tr>\n",
       "      <th>2</th>\n",
       "      <td>1</td>\n",
       "      <td>2022-05-01 00:59:00</td>\n",
       "      <td>2022-05-01 01:14:22</td>\n",
       "      <td>1.0</td>\n",
       "      <td>6.759228</td>\n",
       "      <td>1.0</td>\n",
       "      <td>N</td>\n",
       "      <td>163</td>\n",
       "      <td>260</td>\n",
       "      <td>2</td>\n",
       "      <td>15.5</td>\n",
       "      <td>3.0</td>\n",
       "      <td>0.5</td>\n",
       "      <td>0.00</td>\n",
       "      <td>0.0</td>\n",
       "      <td>0.3</td>\n",
       "      <td>19.30</td>\n",
       "      <td>2.5</td>\n",
       "      <td>0.0</td>\n",
       "      <td>922.0</td>\n",
       "      <td>0 days 00:15:22</td>\n",
       "      <td>6.827629</td>\n",
       "      <td>2.048883</td>\n",
       "    </tr>\n",
       "    <tr>\n",
       "      <th>3</th>\n",
       "      <td>1</td>\n",
       "      <td>2022-05-01 00:28:26</td>\n",
       "      <td>2022-05-01 00:37:49</td>\n",
       "      <td>1.0</td>\n",
       "      <td>2.574944</td>\n",
       "      <td>1.0</td>\n",
       "      <td>N</td>\n",
       "      <td>238</td>\n",
       "      <td>75</td>\n",
       "      <td>1</td>\n",
       "      <td>7.5</td>\n",
       "      <td>3.0</td>\n",
       "      <td>0.5</td>\n",
       "      <td>2.25</td>\n",
       "      <td>0.0</td>\n",
       "      <td>0.3</td>\n",
       "      <td>13.55</td>\n",
       "      <td>2.5</td>\n",
       "      <td>0.0</td>\n",
       "      <td>563.0</td>\n",
       "      <td>0 days 00:09:23</td>\n",
       "      <td>6.335054</td>\n",
       "      <td>1.273950</td>\n",
       "    </tr>\n",
       "    <tr>\n",
       "      <th>4</th>\n",
       "      <td>2</td>\n",
       "      <td>2022-04-30 23:53:47</td>\n",
       "      <td>2022-05-01 00:05:17</td>\n",
       "      <td>1.0</td>\n",
       "      <td>3.009466</td>\n",
       "      <td>1.0</td>\n",
       "      <td>N</td>\n",
       "      <td>249</td>\n",
       "      <td>164</td>\n",
       "      <td>1</td>\n",
       "      <td>9.5</td>\n",
       "      <td>0.5</td>\n",
       "      <td>0.5</td>\n",
       "      <td>2.66</td>\n",
       "      <td>0.0</td>\n",
       "      <td>0.3</td>\n",
       "      <td>15.96</td>\n",
       "      <td>2.5</td>\n",
       "      <td>0.0</td>\n",
       "      <td>690.0</td>\n",
       "      <td>0 days 00:11:30</td>\n",
       "      <td>6.538140</td>\n",
       "      <td>1.388658</td>\n",
       "    </tr>\n",
       "  </tbody>\n",
       "</table>\n",
       "</div>"
      ],
      "text/plain": [
       "   VendorID tpep_pickup_datetime tpep_dropoff_datetime  passenger_count  trip_distance  RatecodeID store_and_fwd_flag  PULocationID  DOLocationID  payment_type  fare_amount  extra  mta_tax  tip_amount  tolls_amount  improvement_surcharge  total_amount  congestion_surcharge  airport_fee  trip_duration_seconds   trip_duration  log_trip_duration  log_trip_distance\n",
       "0         1  2022-05-01 00:00:36   2022-05-01 00:19:18              1.0       6.598294         1.0                  N           246           151             2         17.0    3.0      0.5        0.00           0.0                    0.3         20.80                   2.5          0.0                 1122.0 0 days 00:18:42           7.023759           2.027924\n",
       "1         1  2022-05-01 00:27:44   2022-05-01 00:41:33              1.0       3.701482         1.0                  N           238            74             2         11.0    3.0      0.5        0.00           0.0                    0.3         14.80                   2.5          0.0                  829.0 0 days 00:13:49           6.721426           1.547878\n",
       "2         1  2022-05-01 00:59:00   2022-05-01 01:14:22              1.0       6.759228         1.0                  N           163           260             2         15.5    3.0      0.5        0.00           0.0                    0.3         19.30                   2.5          0.0                  922.0 0 days 00:15:22           6.827629           2.048883\n",
       "3         1  2022-05-01 00:28:26   2022-05-01 00:37:49              1.0       2.574944         1.0                  N           238            75             1          7.5    3.0      0.5        2.25           0.0                    0.3         13.55                   2.5          0.0                  563.0 0 days 00:09:23           6.335054           1.273950\n",
       "4         2  2022-04-30 23:53:47   2022-05-01 00:05:17              1.0       3.009466         1.0                  N           249           164             1          9.5    0.5      0.5        2.66           0.0                    0.3         15.96                   2.5          0.0                  690.0 0 days 00:11:30           6.538140           1.388658"
      ]
     },
     "execution_count": 73,
     "metadata": {},
     "output_type": "execute_result"
    }
   ],
   "source": [
    "df.head()"
   ]
  },
  {
   "cell_type": "code",
   "execution_count": null,
   "id": "be63b39d",
   "metadata": {},
   "outputs": [],
   "source": []
  },
  {
   "cell_type": "code",
   "execution_count": 74,
   "id": "dddf9866",
   "metadata": {},
   "outputs": [
    {
     "name": "stdout",
     "output_type": "stream",
     "text": [
      "Max and min distance (km): 30.255592, 0.5310822000000001\n",
      "Max and min times (sec): 3884.0, 117.0\n"
     ]
    }
   ],
   "source": [
    "#convert the time data and see the maximum and minimum values\n",
    "print(\"Max and min distance (km): {}, {}\".format(df['trip_distance'].max(), df['trip_distance'].min()))\n",
    "print(\"Max and min times (sec): {}, {}\".format(df['trip_duration_seconds'].max(), df['trip_duration_seconds'].min()))"
   ]
  },
  {
   "cell_type": "code",
   "execution_count": 75,
   "id": "46f0399e",
   "metadata": {},
   "outputs": [
    {
     "data": {
      "image/png": "[encoded data removed]",
      "text/plain": [
       "<Figure size 432x288 with 1 Axes>"
      ]
     },
     "metadata": {
      "needs_background": "light"
     },
     "output_type": "display_data"
    }
   ],
   "source": [
    "#visualize the distribution\n",
    "plt.hist(df['log_trip_duration'].values, bins=100)\n",
    "plt.xlabel('log(trip_duration)')\n",
    "plt.ylabel('number of train records')\n",
    "plt.show()"
   ]
  },
  {
   "cell_type": "code",
   "execution_count": 76,
   "id": "8fe3bccb",
   "metadata": {},
   "outputs": [
    {
     "data": {
      "image/png": "[encoded data removed]",
      "text/plain": [
       "<Figure size 432x288 with 1 Axes>"
      ]
     },
     "metadata": {
      "needs_background": "light"
     },
     "output_type": "display_data"
    }
   ],
   "source": [
    "#visualize the distribution\n",
    "plt.hist(df['log_trip_distance'].values, bins=100)\n",
    "plt.xlabel('log(trip_distance)')\n",
    "plt.ylabel('number of train records')\n",
    "plt.show()"
   ]
  },
  {
   "cell_type": "code",
   "execution_count": null,
   "id": "7c914091",
   "metadata": {},
   "outputs": [],
   "source": []
  },
  {
   "cell_type": "code",
   "execution_count": 77,
   "id": "4a83f3d7",
   "metadata": {},
   "outputs": [],
   "source": [
    "df['pickup_weekday'] = df['tpep_pickup_datetime'].dt.weekday\n",
    "df['pickup_hour_weekofyear'] = df['tpep_pickup_datetime'].dt.weekofyear\n",
    "df['pickup_hour'] = df['tpep_pickup_datetime'].dt.hour\n",
    "df['pickup_minute'] = df['tpep_pickup_datetime'].dt.minute\n",
    "df['pickup_dt'] = (df['tpep_pickup_datetime'] - df['tpep_pickup_datetime'].min()).dt.total_seconds()\n",
    "df['pickup_week_hour'] = df['pickup_weekday'] * 24 + df['pickup_hour']"
   ]
  },
  {
   "cell_type": "code",
   "execution_count": 24,
   "id": "e63636a1",
   "metadata": {},
   "outputs": [
    {
     "data": {
      "image/png": "[encoded data removed]",
      "text/plain": [
       "<Figure size 432x288 with 3 Axes>"
      ]
     },
     "metadata": {
      "needs_background": "light"
     },
     "output_type": "display_data"
    }
   ],
   "source": [
    "#find average speeds at different times\n",
    "df.loc[:, 'avg_speed_h'] = df['trip_distance'] / (df['trip_duration_seconds'] / 3600)\n",
    "df.loc[:, 'avg_speed_m'] = df['trip_distance'] / (df['trip_duration_seconds'] / 60)\n",
    "\n",
    "\n",
    "fig, ax = plt.subplots(ncols=3, sharey=True)\n",
    "ax[0].plot(df.groupby('pickup_hour').mean()['avg_speed_h'], 'bo-', lw=2, alpha=0.7)\n",
    "ax[1].plot(df.groupby('pickup_weekday').mean()['avg_speed_h'], 'go-', lw=2, alpha=0.7)\n",
    "ax[2].plot(df.groupby('pickup_week_hour').mean()['avg_speed_h'], 'ro-', lw=2, alpha=0.7)\n",
    "ax[0].set_xlabel('hour')\n",
    "ax[1].set_xlabel('weekday')\n",
    "ax[2].set_xlabel('weekhour')\n",
    "ax[0].set_ylabel('average speed')\n",
    "fig.suptitle('Rush hour average traffic speed')\n",
    "plt.show()"
   ]
  },
  {
   "cell_type": "markdown",
   "id": "b1495ede",
   "metadata": {},
   "source": [
    "### Prepare data"
   ]
  },
  {
   "cell_type": "markdown",
   "id": "80713e53",
   "metadata": {},
   "source": [
    "Get statistikal data based on avegare speed"
   ]
  },
  {
   "cell_type": "code",
   "execution_count": 25,
   "id": "cdf11e2f",
   "metadata": {},
   "outputs": [],
   "source": [
    "df_hours = df.groupby('pickup_hour').mean()['avg_speed_h']\n",
    "df_weekday = df.groupby('pickup_weekday').mean()['avg_speed_h']\n",
    "df_weekday_hour = df.groupby('pickup_week_hour').mean()['avg_speed_h']"
   ]
  },
  {
   "cell_type": "code",
   "execution_count": 26,
   "id": "4fbca5fa",
   "metadata": {},
   "outputs": [],
   "source": [
    "average_speed_hour_dict = df_hours.to_dict()\n",
    "average_speed_weekday_dict = df_weekday.to_dict()\n",
    "average_speed_weekday_hour_dict = df_weekday_hour.to_dict()"
   ]
  },
  {
   "cell_type": "code",
   "execution_count": 27,
   "id": "1e301c79",
   "metadata": {},
   "outputs": [],
   "source": [
    "df[\"avg_speed_this_hour\"] = df['pickup_hour'].map(average_speed_hour_dict)\n",
    "df[\"avg_speed_this_day\"] = df['pickup_weekday'].map(average_speed_weekday_dict)\n",
    "df[\"avg_speed_this_dayweek\"] = df['pickup_week_hour'].map(average_speed_weekday_hour_dict)"
   ]
  },
  {
   "cell_type": "code",
   "execution_count": 28,
   "id": "4632ad31",
   "metadata": {},
   "outputs": [
    {
     "data": {
      "text/html": [
       "<div>\n",
       "<style scoped>\n",
       "    .dataframe tbody tr th:only-of-type {\n",
       "        vertical-align: middle;\n",
       "    }\n",
       "\n",
       "    .dataframe tbody tr th {\n",
       "        vertical-align: top;\n",
       "    }\n",
       "\n",
       "    .dataframe thead th {\n",
       "        text-align: right;\n",
       "    }\n",
       "</style>\n",
       "<table border=\"1\" class=\"dataframe\">\n",
       "  <thead>\n",
       "    <tr style=\"text-align: right;\">\n",
       "      <th></th>\n",
       "      <th>VendorID</th>\n",
       "      <th>tpep_pickup_datetime</th>\n",
       "      <th>tpep_dropoff_datetime</th>\n",
       "      <th>passenger_count</th>\n",
       "      <th>trip_distance</th>\n",
       "      <th>RatecodeID</th>\n",
       "      <th>store_and_fwd_flag</th>\n",
       "      <th>PULocationID</th>\n",
       "      <th>DOLocationID</th>\n",
       "      <th>payment_type</th>\n",
       "      <th>fare_amount</th>\n",
       "      <th>extra</th>\n",
       "      <th>mta_tax</th>\n",
       "      <th>tip_amount</th>\n",
       "      <th>tolls_amount</th>\n",
       "      <th>improvement_surcharge</th>\n",
       "      <th>total_amount</th>\n",
       "      <th>congestion_surcharge</th>\n",
       "      <th>airport_fee</th>\n",
       "      <th>trip_duration_seconds</th>\n",
       "      <th>trip_duration</th>\n",
       "      <th>log_trip_duration</th>\n",
       "      <th>log_trip_distance</th>\n",
       "      <th>pickup_weekday</th>\n",
       "      <th>pickup_hour_weekofyear</th>\n",
       "      <th>pickup_hour</th>\n",
       "      <th>pickup_minute</th>\n",
       "      <th>pickup_dt</th>\n",
       "      <th>pickup_week_hour</th>\n",
       "      <th>avg_speed_h</th>\n",
       "      <th>avg_speed_m</th>\n",
       "      <th>avg_speed_this_hour</th>\n",
       "      <th>avg_speed_this_day</th>\n",
       "      <th>avg_speed_this_dayweek</th>\n",
       "    </tr>\n",
       "  </thead>\n",
       "  <tbody>\n",
       "    <tr>\n",
       "      <th>0</th>\n",
       "      <td>1</td>\n",
       "      <td>2022-05-01 00:00:36</td>\n",
       "      <td>2022-05-01 00:19:18</td>\n",
       "      <td>1.0</td>\n",
       "      <td>6.598294</td>\n",
       "      <td>1.0</td>\n",
       "      <td>N</td>\n",
       "      <td>246</td>\n",
       "      <td>151</td>\n",
       "      <td>2</td>\n",
       "      <td>17.0</td>\n",
       "      <td>3.0</td>\n",
       "      <td>0.5</td>\n",
       "      <td>0.00</td>\n",
       "      <td>0.0</td>\n",
       "      <td>0.3</td>\n",
       "      <td>20.80</td>\n",
       "      <td>2.5</td>\n",
       "      <td>0.0</td>\n",
       "      <td>1122.0</td>\n",
       "      <td>0 days 00:18:42</td>\n",
       "      <td>7.023759</td>\n",
       "      <td>2.027924</td>\n",
       "      <td>6</td>\n",
       "      <td>17</td>\n",
       "      <td>0</td>\n",
       "      <td>0</td>\n",
       "      <td>609983670.0</td>\n",
       "      <td>144</td>\n",
       "      <td>21.170997</td>\n",
       "      <td>0.352850</td>\n",
       "      <td>25.262018</td>\n",
       "      <td>22.201269</td>\n",
       "      <td>22.424420</td>\n",
       "    </tr>\n",
       "    <tr>\n",
       "      <th>1</th>\n",
       "      <td>1</td>\n",
       "      <td>2022-05-01 00:27:44</td>\n",
       "      <td>2022-05-01 00:41:33</td>\n",
       "      <td>1.0</td>\n",
       "      <td>3.701482</td>\n",
       "      <td>1.0</td>\n",
       "      <td>N</td>\n",
       "      <td>238</td>\n",
       "      <td>74</td>\n",
       "      <td>2</td>\n",
       "      <td>11.0</td>\n",
       "      <td>3.0</td>\n",
       "      <td>0.5</td>\n",
       "      <td>0.00</td>\n",
       "      <td>0.0</td>\n",
       "      <td>0.3</td>\n",
       "      <td>14.80</td>\n",
       "      <td>2.5</td>\n",
       "      <td>0.0</td>\n",
       "      <td>829.0</td>\n",
       "      <td>0 days 00:13:49</td>\n",
       "      <td>6.721426</td>\n",
       "      <td>1.547878</td>\n",
       "      <td>6</td>\n",
       "      <td>17</td>\n",
       "      <td>0</td>\n",
       "      <td>27</td>\n",
       "      <td>609985298.0</td>\n",
       "      <td>144</td>\n",
       "      <td>16.073987</td>\n",
       "      <td>0.267900</td>\n",
       "      <td>25.262018</td>\n",
       "      <td>22.201269</td>\n",
       "      <td>22.424420</td>\n",
       "    </tr>\n",
       "    <tr>\n",
       "      <th>2</th>\n",
       "      <td>1</td>\n",
       "      <td>2022-05-01 00:59:00</td>\n",
       "      <td>2022-05-01 01:14:22</td>\n",
       "      <td>1.0</td>\n",
       "      <td>6.759228</td>\n",
       "      <td>1.0</td>\n",
       "      <td>N</td>\n",
       "      <td>163</td>\n",
       "      <td>260</td>\n",
       "      <td>2</td>\n",
       "      <td>15.5</td>\n",
       "      <td>3.0</td>\n",
       "      <td>0.5</td>\n",
       "      <td>0.00</td>\n",
       "      <td>0.0</td>\n",
       "      <td>0.3</td>\n",
       "      <td>19.30</td>\n",
       "      <td>2.5</td>\n",
       "      <td>0.0</td>\n",
       "      <td>922.0</td>\n",
       "      <td>0 days 00:15:22</td>\n",
       "      <td>6.827629</td>\n",
       "      <td>2.048883</td>\n",
       "      <td>6</td>\n",
       "      <td>17</td>\n",
       "      <td>0</td>\n",
       "      <td>59</td>\n",
       "      <td>609987174.0</td>\n",
       "      <td>144</td>\n",
       "      <td>26.391780</td>\n",
       "      <td>0.439863</td>\n",
       "      <td>25.262018</td>\n",
       "      <td>22.201269</td>\n",
       "      <td>22.424420</td>\n",
       "    </tr>\n",
       "    <tr>\n",
       "      <th>3</th>\n",
       "      <td>1</td>\n",
       "      <td>2022-05-01 00:28:26</td>\n",
       "      <td>2022-05-01 00:37:49</td>\n",
       "      <td>1.0</td>\n",
       "      <td>2.574944</td>\n",
       "      <td>1.0</td>\n",
       "      <td>N</td>\n",
       "      <td>238</td>\n",
       "      <td>75</td>\n",
       "      <td>1</td>\n",
       "      <td>7.5</td>\n",
       "      <td>3.0</td>\n",
       "      <td>0.5</td>\n",
       "      <td>2.25</td>\n",
       "      <td>0.0</td>\n",
       "      <td>0.3</td>\n",
       "      <td>13.55</td>\n",
       "      <td>2.5</td>\n",
       "      <td>0.0</td>\n",
       "      <td>563.0</td>\n",
       "      <td>0 days 00:09:23</td>\n",
       "      <td>6.335054</td>\n",
       "      <td>1.273950</td>\n",
       "      <td>6</td>\n",
       "      <td>17</td>\n",
       "      <td>0</td>\n",
       "      <td>28</td>\n",
       "      <td>609985340.0</td>\n",
       "      <td>144</td>\n",
       "      <td>16.465006</td>\n",
       "      <td>0.274417</td>\n",
       "      <td>25.262018</td>\n",
       "      <td>22.201269</td>\n",
       "      <td>22.424420</td>\n",
       "    </tr>\n",
       "    <tr>\n",
       "      <th>4</th>\n",
       "      <td>2</td>\n",
       "      <td>2022-04-30 23:53:47</td>\n",
       "      <td>2022-05-01 00:05:17</td>\n",
       "      <td>1.0</td>\n",
       "      <td>3.009466</td>\n",
       "      <td>1.0</td>\n",
       "      <td>N</td>\n",
       "      <td>249</td>\n",
       "      <td>164</td>\n",
       "      <td>1</td>\n",
       "      <td>9.5</td>\n",
       "      <td>0.5</td>\n",
       "      <td>0.5</td>\n",
       "      <td>2.66</td>\n",
       "      <td>0.0</td>\n",
       "      <td>0.3</td>\n",
       "      <td>15.96</td>\n",
       "      <td>2.5</td>\n",
       "      <td>0.0</td>\n",
       "      <td>690.0</td>\n",
       "      <td>0 days 00:11:30</td>\n",
       "      <td>6.538140</td>\n",
       "      <td>1.388658</td>\n",
       "      <td>5</td>\n",
       "      <td>17</td>\n",
       "      <td>23</td>\n",
       "      <td>53</td>\n",
       "      <td>609983261.0</td>\n",
       "      <td>143</td>\n",
       "      <td>15.701561</td>\n",
       "      <td>0.261693</td>\n",
       "      <td>23.967239</td>\n",
       "      <td>19.408069</td>\n",
       "      <td>20.252859</td>\n",
       "    </tr>\n",
       "  </tbody>\n",
       "</table>\n",
       "</div>"
      ],
      "text/plain": [
       "   VendorID tpep_pickup_datetime tpep_dropoff_datetime  passenger_count  trip_distance  RatecodeID store_and_fwd_flag  PULocationID  DOLocationID  payment_type  fare_amount  extra  mta_tax  tip_amount  tolls_amount  improvement_surcharge  total_amount  congestion_surcharge  airport_fee  trip_duration_seconds   trip_duration  log_trip_duration  log_trip_distance  pickup_weekday  pickup_hour_weekofyear  pickup_hour  pickup_minute    pickup_dt  pickup_week_hour  avg_speed_h  avg_speed_m  avg_speed_this_hour  avg_speed_this_day  avg_speed_this_dayweek\n",
       "0         1  2022-05-01 00:00:36   2022-05-01 00:19:18              1.0       6.598294         1.0                  N           246           151             2         17.0    3.0      0.5        0.00           0.0                    0.3         20.80                   2.5          0.0                 1122.0 0 days 00:18:42           7.023759           2.027924               6                      17            0              0  609983670.0               144    21.170997     0.352850            25.262018           22.201269               22.424420\n",
       "1         1  2022-05-01 00:27:44   2022-05-01 00:41:33              1.0       3.701482         1.0                  N           238            74             2         11.0    3.0      0.5        0.00           0.0                    0.3         14.80                   2.5          0.0                  829.0 0 days 00:13:49           6.721426           1.547878               6                      17            0             27  609985298.0               144    16.073987     0.267900            25.262018           22.201269               22.424420\n",
       "2         1  2022-05-01 00:59:00   2022-05-01 01:14:22              1.0       6.759228         1.0                  N           163           260             2         15.5    3.0      0.5        0.00           0.0                    0.3         19.30                   2.5          0.0                  922.0 0 days 00:15:22           6.827629           2.048883               6                      17            0             59  609987174.0               144    26.391780     0.439863            25.262018           22.201269               22.424420\n",
       "3         1  2022-05-01 00:28:26   2022-05-01 00:37:49              1.0       2.574944         1.0                  N           238            75             1          7.5    3.0      0.5        2.25           0.0                    0.3         13.55                   2.5          0.0                  563.0 0 days 00:09:23           6.335054           1.273950               6                      17            0             28  609985340.0               144    16.465006     0.274417            25.262018           22.201269               22.424420\n",
       "4         2  2022-04-30 23:53:47   2022-05-01 00:05:17              1.0       3.009466         1.0                  N           249           164             1          9.5    0.5      0.5        2.66           0.0                    0.3         15.96                   2.5          0.0                  690.0 0 days 00:11:30           6.538140           1.388658               5                      17           23             53  609983261.0               143    15.701561     0.261693            23.967239           19.408069               20.252859"
      ]
     },
     "execution_count": 28,
     "metadata": {},
     "output_type": "execute_result"
    }
   ],
   "source": [
    "df.head()"
   ]
  },
  {
   "cell_type": "code",
   "execution_count": 29,
   "id": "22ac56f4",
   "metadata": {},
   "outputs": [],
   "source": [
    "df.dropna(inplace=True)"
   ]
  },
  {
   "cell_type": "code",
   "execution_count": 30,
   "id": "083e7300",
   "metadata": {},
   "outputs": [],
   "source": [
    "store_map = {\"Y\": 1, \"N\": 0}\n",
    "df['store_and_fwd_flag'] = df['store_and_fwd_flag'].map(store_map)"
   ]
  },
  {
   "cell_type": "code",
   "execution_count": 31,
   "id": "462ec5cd",
   "metadata": {},
   "outputs": [],
   "source": [
    "y = df.trip_duration\n",
    "del df['trip_duration']"
   ]
  },
  {
   "cell_type": "code",
   "execution_count": 32,
   "id": "60f5fe4e",
   "metadata": {},
   "outputs": [],
   "source": [
    "y = y.dt.total_seconds()"
   ]
  },
  {
   "cell_type": "code",
   "execution_count": 33,
   "id": "08a31b3c",
   "metadata": {},
   "outputs": [
    {
     "data": {
      "text/html": [
       "<div>\n",
       "<style scoped>\n",
       "    .dataframe tbody tr th:only-of-type {\n",
       "        vertical-align: middle;\n",
       "    }\n",
       "\n",
       "    .dataframe tbody tr th {\n",
       "        vertical-align: top;\n",
       "    }\n",
       "\n",
       "    .dataframe thead th {\n",
       "        text-align: right;\n",
       "    }\n",
       "</style>\n",
       "<table border=\"1\" class=\"dataframe\">\n",
       "  <thead>\n",
       "    <tr style=\"text-align: right;\">\n",
       "      <th></th>\n",
       "      <th>VendorID</th>\n",
       "      <th>tpep_pickup_datetime</th>\n",
       "      <th>tpep_dropoff_datetime</th>\n",
       "      <th>passenger_count</th>\n",
       "      <th>trip_distance</th>\n",
       "      <th>RatecodeID</th>\n",
       "      <th>store_and_fwd_flag</th>\n",
       "      <th>PULocationID</th>\n",
       "      <th>DOLocationID</th>\n",
       "      <th>payment_type</th>\n",
       "      <th>fare_amount</th>\n",
       "      <th>extra</th>\n",
       "      <th>mta_tax</th>\n",
       "      <th>tip_amount</th>\n",
       "      <th>tolls_amount</th>\n",
       "      <th>improvement_surcharge</th>\n",
       "      <th>total_amount</th>\n",
       "      <th>congestion_surcharge</th>\n",
       "      <th>airport_fee</th>\n",
       "      <th>trip_duration_seconds</th>\n",
       "      <th>log_trip_duration</th>\n",
       "      <th>log_trip_distance</th>\n",
       "      <th>pickup_weekday</th>\n",
       "      <th>pickup_hour_weekofyear</th>\n",
       "      <th>pickup_hour</th>\n",
       "      <th>pickup_minute</th>\n",
       "      <th>pickup_dt</th>\n",
       "      <th>pickup_week_hour</th>\n",
       "      <th>avg_speed_h</th>\n",
       "      <th>avg_speed_m</th>\n",
       "      <th>avg_speed_this_hour</th>\n",
       "      <th>avg_speed_this_day</th>\n",
       "      <th>avg_speed_this_dayweek</th>\n",
       "    </tr>\n",
       "  </thead>\n",
       "  <tbody>\n",
       "    <tr>\n",
       "      <th>0</th>\n",
       "      <td>1</td>\n",
       "      <td>2022-05-01 00:00:36</td>\n",
       "      <td>2022-05-01 00:19:18</td>\n",
       "      <td>1.0</td>\n",
       "      <td>6.598294</td>\n",
       "      <td>1.0</td>\n",
       "      <td>0</td>\n",
       "      <td>246</td>\n",
       "      <td>151</td>\n",
       "      <td>2</td>\n",
       "      <td>17.0</td>\n",
       "      <td>3.0</td>\n",
       "      <td>0.5</td>\n",
       "      <td>0.0</td>\n",
       "      <td>0.0</td>\n",
       "      <td>0.3</td>\n",
       "      <td>20.8</td>\n",
       "      <td>2.5</td>\n",
       "      <td>0.0</td>\n",
       "      <td>1122.0</td>\n",
       "      <td>7.023759</td>\n",
       "      <td>2.027924</td>\n",
       "      <td>6</td>\n",
       "      <td>17</td>\n",
       "      <td>0</td>\n",
       "      <td>0</td>\n",
       "      <td>609983670.0</td>\n",
       "      <td>144</td>\n",
       "      <td>21.170997</td>\n",
       "      <td>0.352850</td>\n",
       "      <td>25.262018</td>\n",
       "      <td>22.201269</td>\n",
       "      <td>22.42442</td>\n",
       "    </tr>\n",
       "    <tr>\n",
       "      <th>1</th>\n",
       "      <td>1</td>\n",
       "      <td>2022-05-01 00:27:44</td>\n",
       "      <td>2022-05-01 00:41:33</td>\n",
       "      <td>1.0</td>\n",
       "      <td>3.701482</td>\n",
       "      <td>1.0</td>\n",
       "      <td>0</td>\n",
       "      <td>238</td>\n",
       "      <td>74</td>\n",
       "      <td>2</td>\n",
       "      <td>11.0</td>\n",
       "      <td>3.0</td>\n",
       "      <td>0.5</td>\n",
       "      <td>0.0</td>\n",
       "      <td>0.0</td>\n",
       "      <td>0.3</td>\n",
       "      <td>14.8</td>\n",
       "      <td>2.5</td>\n",
       "      <td>0.0</td>\n",
       "      <td>829.0</td>\n",
       "      <td>6.721426</td>\n",
       "      <td>1.547878</td>\n",
       "      <td>6</td>\n",
       "      <td>17</td>\n",
       "      <td>0</td>\n",
       "      <td>27</td>\n",
       "      <td>609985298.0</td>\n",
       "      <td>144</td>\n",
       "      <td>16.073987</td>\n",
       "      <td>0.267900</td>\n",
       "      <td>25.262018</td>\n",
       "      <td>22.201269</td>\n",
       "      <td>22.42442</td>\n",
       "    </tr>\n",
       "    <tr>\n",
       "      <th>2</th>\n",
       "      <td>1</td>\n",
       "      <td>2022-05-01 00:59:00</td>\n",
       "      <td>2022-05-01 01:14:22</td>\n",
       "      <td>1.0</td>\n",
       "      <td>6.759228</td>\n",
       "      <td>1.0</td>\n",
       "      <td>0</td>\n",
       "      <td>163</td>\n",
       "      <td>260</td>\n",
       "      <td>2</td>\n",
       "      <td>15.5</td>\n",
       "      <td>3.0</td>\n",
       "      <td>0.5</td>\n",
       "      <td>0.0</td>\n",
       "      <td>0.0</td>\n",
       "      <td>0.3</td>\n",
       "      <td>19.3</td>\n",
       "      <td>2.5</td>\n",
       "      <td>0.0</td>\n",
       "      <td>922.0</td>\n",
       "      <td>6.827629</td>\n",
       "      <td>2.048883</td>\n",
       "      <td>6</td>\n",
       "      <td>17</td>\n",
       "      <td>0</td>\n",
       "      <td>59</td>\n",
       "      <td>609987174.0</td>\n",
       "      <td>144</td>\n",
       "      <td>26.391780</td>\n",
       "      <td>0.439863</td>\n",
       "      <td>25.262018</td>\n",
       "      <td>22.201269</td>\n",
       "      <td>22.42442</td>\n",
       "    </tr>\n",
       "  </tbody>\n",
       "</table>\n",
       "</div>"
      ],
      "text/plain": [
       "   VendorID tpep_pickup_datetime tpep_dropoff_datetime  passenger_count  trip_distance  RatecodeID  store_and_fwd_flag  PULocationID  DOLocationID  payment_type  fare_amount  extra  mta_tax  tip_amount  tolls_amount  improvement_surcharge  total_amount  congestion_surcharge  airport_fee  trip_duration_seconds  log_trip_duration  log_trip_distance  pickup_weekday  pickup_hour_weekofyear  pickup_hour  pickup_minute    pickup_dt  pickup_week_hour  avg_speed_h  avg_speed_m  avg_speed_this_hour  avg_speed_this_day  avg_speed_this_dayweek\n",
       "0         1  2022-05-01 00:00:36   2022-05-01 00:19:18              1.0       6.598294         1.0                   0           246           151             2         17.0    3.0      0.5         0.0           0.0                    0.3          20.8                   2.5          0.0                 1122.0           7.023759           2.027924               6                      17            0              0  609983670.0               144    21.170997     0.352850            25.262018           22.201269                22.42442\n",
       "1         1  2022-05-01 00:27:44   2022-05-01 00:41:33              1.0       3.701482         1.0                   0           238            74             2         11.0    3.0      0.5         0.0           0.0                    0.3          14.8                   2.5          0.0                  829.0           6.721426           1.547878               6                      17            0             27  609985298.0               144    16.073987     0.267900            25.262018           22.201269                22.42442\n",
       "2         1  2022-05-01 00:59:00   2022-05-01 01:14:22              1.0       6.759228         1.0                   0           163           260             2         15.5    3.0      0.5         0.0           0.0                    0.3          19.3                   2.5          0.0                  922.0           6.827629           2.048883               6                      17            0             59  609987174.0               144    26.391780     0.439863            25.262018           22.201269                22.42442"
      ]
     },
     "execution_count": 33,
     "metadata": {},
     "output_type": "execute_result"
    }
   ],
   "source": [
    "df.head(3)"
   ]
  },
  {
   "cell_type": "code",
   "execution_count": 34,
   "id": "a60f0ba6",
   "metadata": {},
   "outputs": [],
   "source": [
    "mapp = {0:1, 1:1, 2:1, 3:1, 4:1, 5:1, 6:1}\n",
    "map1 = {0 : 1}\n",
    "map2 = {1 : 1}\n",
    "map3 = {2 : 1}\n",
    "map4 = {3 : 1}\n",
    "map5 = {4 : 1}\n",
    "map6 = {5 : 1}\n",
    "map7 = {6 : 1}\n",
    "df['Monday'] = df['pickup_weekday'].map(map1)\n",
    "df['Tuesday'] = df['pickup_weekday'].map(map2)\n",
    "df['Wednesda'] = df['pickup_weekday'].map(map3)\n",
    "df['Thursday'] = df['pickup_weekday'].map(map4)\n",
    "df['Friday'] = df['pickup_weekday'].map(map5)\n",
    "df['Saturday'] = df['pickup_weekday'].map(map6)\n",
    "df['Sunday'] = df['pickup_weekday'].map(map7)\n",
    "df.fillna(0, inplace=True)"
   ]
  },
  {
   "cell_type": "code",
   "execution_count": 35,
   "id": "2480c8e9",
   "metadata": {},
   "outputs": [],
   "source": [
    "df_train=df[['trip_distance', 'PULocationID', 'DOLocationID', 'pickup_weekday', 'pickup_hour', 'pickup_minute', 'pickup_week_hour', 'avg_speed_this_hour', 'avg_speed_this_day', 'avg_speed_this_dayweek']]"
   ]
  },
  {
   "cell_type": "code",
   "execution_count": 36,
   "id": "89004873",
   "metadata": {},
   "outputs": [
    {
     "data": {
      "text/html": [
       "<div>\n",
       "<style scoped>\n",
       "    .dataframe tbody tr th:only-of-type {\n",
       "        vertical-align: middle;\n",
       "    }\n",
       "\n",
       "    .dataframe tbody tr th {\n",
       "        vertical-align: top;\n",
       "    }\n",
       "\n",
       "    .dataframe thead th {\n",
       "        text-align: right;\n",
       "    }\n",
       "</style>\n",
       "<table border=\"1\" class=\"dataframe\">\n",
       "  <thead>\n",
       "    <tr style=\"text-align: right;\">\n",
       "      <th></th>\n",
       "      <th>trip_distance</th>\n",
       "      <th>PULocationID</th>\n",
       "      <th>DOLocationID</th>\n",
       "      <th>pickup_weekday</th>\n",
       "      <th>pickup_hour</th>\n",
       "      <th>pickup_minute</th>\n",
       "      <th>pickup_week_hour</th>\n",
       "      <th>avg_speed_this_hour</th>\n",
       "      <th>avg_speed_this_day</th>\n",
       "      <th>avg_speed_this_dayweek</th>\n",
       "    </tr>\n",
       "  </thead>\n",
       "  <tbody>\n",
       "    <tr>\n",
       "      <th>0</th>\n",
       "      <td>6.598294</td>\n",
       "      <td>246</td>\n",
       "      <td>151</td>\n",
       "      <td>6</td>\n",
       "      <td>0</td>\n",
       "      <td>0</td>\n",
       "      <td>144</td>\n",
       "      <td>25.262018</td>\n",
       "      <td>22.201269</td>\n",
       "      <td>22.42442</td>\n",
       "    </tr>\n",
       "    <tr>\n",
       "      <th>1</th>\n",
       "      <td>3.701482</td>\n",
       "      <td>238</td>\n",
       "      <td>74</td>\n",
       "      <td>6</td>\n",
       "      <td>0</td>\n",
       "      <td>27</td>\n",
       "      <td>144</td>\n",
       "      <td>25.262018</td>\n",
       "      <td>22.201269</td>\n",
       "      <td>22.42442</td>\n",
       "    </tr>\n",
       "    <tr>\n",
       "      <th>2</th>\n",
       "      <td>6.759228</td>\n",
       "      <td>163</td>\n",
       "      <td>260</td>\n",
       "      <td>6</td>\n",
       "      <td>0</td>\n",
       "      <td>59</td>\n",
       "      <td>144</td>\n",
       "      <td>25.262018</td>\n",
       "      <td>22.201269</td>\n",
       "      <td>22.42442</td>\n",
       "    </tr>\n",
       "  </tbody>\n",
       "</table>\n",
       "</div>"
      ],
      "text/plain": [
       "   trip_distance  PULocationID  DOLocationID  pickup_weekday  pickup_hour  pickup_minute  pickup_week_hour  avg_speed_this_hour  avg_speed_this_day  avg_speed_this_dayweek\n",
       "0       6.598294           246           151               6            0              0               144            25.262018           22.201269                22.42442\n",
       "1       3.701482           238            74               6            0             27               144            25.262018           22.201269                22.42442\n",
       "2       6.759228           163           260               6            0             59               144            25.262018           22.201269                22.42442"
      ]
     },
     "execution_count": 36,
     "metadata": {},
     "output_type": "execute_result"
    }
   ],
   "source": [
    "df_train.head(3)"
   ]
  },
  {
   "cell_type": "markdown",
   "id": "9a5be89c",
   "metadata": {},
   "source": [
    "### Prepare model"
   ]
  },
  {
   "cell_type": "markdown",
   "id": "470e88b4",
   "metadata": {},
   "source": [
    "For this data I will use Random Tree Forest"
   ]
  },
  {
   "cell_type": "code",
   "execution_count": 37,
   "id": "1fdc4e7b",
   "metadata": {},
   "outputs": [],
   "source": [
    "from sklearn.model_selection import KFold\n",
    "from sklearn.model_selection import cross_val_score, cross_validate \n",
    "from sklearn.metrics import mean_squared_error, make_scorer, r2_score \n",
    "from sklearn.ensemble import RandomForestRegressor"
   ]
  },
  {
   "cell_type": "code",
   "execution_count": 38,
   "id": "9a2b060e",
   "metadata": {},
   "outputs": [],
   "source": [
    "rfr = RandomForestRegressor(n_estimators=30, max_depth=18, n_jobs=-1, random_state=42)\n",
    "kf = KFold(shuffle=True, n_splits = 5, random_state = 42)"
   ]
  },
  {
   "cell_type": "code",
   "execution_count": 39,
   "id": "6cb8ec80",
   "metadata": {},
   "outputs": [],
   "source": [
    "mse_scorer = make_scorer(mean_squared_error)"
   ]
  },
  {
   "cell_type": "markdown",
   "id": "8120f710",
   "metadata": {},
   "source": [
    "Do a little validation to choose best model"
   ]
  },
  {
   "cell_type": "code",
   "execution_count": 40,
   "id": "d15f4121",
   "metadata": {},
   "outputs": [
    {
     "name": "stdout",
     "output_type": "stream",
     "text": [
      "5 {'fit_time': array([112.01047063, 112.12253952, 112.07733917, 111.91498208,\n",
      "       112.03947711]), 'score_time': array([0.48442888, 0.39654255, 0.4417429 , 0.60809922, 0.47742701]), 'test_score': array([96360.44874043, 96166.90191129, 96522.87019119, 96433.54322911,\n",
      "       96498.55381003])}\n",
      "6 {'fit_time': array([58.18373871, 55.07245684, 56.68571687, 57.88490343, 57.1568327 ]), 'score_time': array([0.11894655, 0.40967512, 0.27405572, 0.15119052, 0.22375202]), 'test_score': array([91654.92522705, 91633.5072616 , 92108.92679324, 91876.3321672 ,\n",
      "       92060.31960683])}\n",
      "7 {'fit_time': array([59.05445409, 60.51035166, 64.90648484, 65.8500073 , 66.08660245]), 'score_time': array([0.14761734, 0.17922425, 1.19316578, 0.47363877, 0.30129695]), 'test_score': array([88918.37987805, 88949.64165682, 89367.66729008, 89111.30328827,\n",
      "       89375.71294517])}\n",
      "8 {'fit_time': array([75.41081715, 69.6992476 , 76.36396146, 76.61546302, 75.01367617]), 'score_time': array([0.34365702, 0.39159155, 0.13236332, 0.24888277, 0.29098892]), 'test_score': array([86418.93716298, 86397.82821935, 86856.49339208, 86614.78584404,\n",
      "       86735.6117332 ])}\n",
      "9 {'fit_time': array([79.13543344, 79.47610807, 81.01056623, 80.99458623, 81.03775525]), 'score_time': array([0.28424883, 0.27443218, 0.19059992, 0.23644519, 0.17576981]), 'test_score': array([83736.25657897, 83688.31459083, 84274.72016981, 84006.31947542,\n",
      "       84045.5715635 ])}\n",
      "10 {'fit_time': array([85.83054399, 86.79839659, 85.84875417, 86.25089216, 86.75270653]), 'score_time': array([0.51775742, 0.56204534, 0.40416098, 0.68836093, 2.00000978]), 'test_score': array([81229.12668808, 81215.61414649, 81717.73579191, 81468.44160597,\n",
      "       81539.66597315])}\n",
      "11 {'fit_time': array([89.67200303, 89.41070461, 89.31050491, 89.49488044, 90.1645112 ]), 'score_time': array([0.26046729, 0.27781415, 0.28649092, 0.31568789, 0.20032239]), 'test_score': array([78855.14785763, 78989.02717839, 79394.01832115, 79041.35803649,\n",
      "       79170.89343364])}\n",
      "12 {'fit_time': array([86.96309972, 86.99226713, 87.73752856, 87.46456909, 88.65661764]), 'score_time': array([0.47156334, 0.56161618, 0.28218746, 0.25708723, 0.22622967]), 'test_score': array([76815.91920696, 76962.18669508, 77398.84810155, 76939.06198114,\n",
      "       77103.82137515])}\n",
      "13 {'fit_time': array([92.12605429, 93.03382301, 91.75962758, 91.67745829, 92.74834061]), 'score_time': array([0.30548596, 0.15351748, 0.50614905, 0.40324926, 0.39886618]), 'test_score': array([75019.00022412, 75136.5915908 , 75516.44324212, 75070.10795045,\n",
      "       75208.51914859])}\n",
      "14 {'fit_time': array([92.66733408, 93.24339366, 93.53969955, 93.3421123 , 93.17842913]), 'score_time': array([0.93622088, 0.71959472, 1.48292184, 2.21541286, 2.34895325]), 'test_score': array([73481.55187068, 73719.94192414, 74046.32101704, 73486.47623738,\n",
      "       73735.54633808])}\n",
      "15 {'fit_time': array([90.92100453, 91.58527589, 90.88908529, 90.79820824, 91.21001482]), 'score_time': array([0.37545013, 0.24286103, 0.37350321, 0.35215139, 0.29245687]), 'test_score': array([72299.70012447, 72503.20685783, 72820.89130182, 72262.69498391,\n",
      "       72513.4419446 ])}\n",
      "16 {'fit_time': array([92.68235254, 92.16346335, 89.63824868, 87.21464658, 92.10988188]), 'score_time': array([0.28162885, 0.28411317, 0.43940234, 0.50646162, 0.26805067]), 'test_score': array([71461.51510548, 71689.02574132, 71955.52881336, 71492.62311178,\n",
      "       71756.10770821])}\n",
      "17 {'fit_time': array([92.96631193, 93.50628471, 92.81822944, 93.11245418, 93.44663787]), 'score_time': array([0.39337206, 0.28539133, 0.3961072 , 0.36383152, 0.28679657]), 'test_score': array([70948.90248028, 71335.73961705, 71538.27505187, 71113.18110365,\n",
      "       71456.66698658])}\n",
      "18 {'fit_time': array([92.98261571, 92.82799816, 92.30153298, 93.60089612, 93.19800448]), 'score_time': array([0.37904334, 0.37281322, 0.49180841, 0.30071068, 0.30518174]), 'test_score': array([70959.50616558, 71336.94196416, 71567.03863243, 71136.68384035,\n",
      "       71548.89654322])}\n",
      "19 {'fit_time': array([93.76165867, 93.8526206 , 93.05197406, 92.98092461, 93.21046233]), 'score_time': array([3.67384386, 2.36351919, 0.74157548, 0.74819279, 0.70069766]), 'test_score': array([71347.32585768, 71729.92005557, 71886.01137159, 71491.19120252,\n",
      "       71874.26867294])}\n"
     ]
    }
   ],
   "source": [
    "for i in range(5, 20):\n",
    "    rfr = RandomForestRegressor(n_estimators=5, max_depth=i, n_jobs=-1, random_state=42)\n",
    "    print(i, cross_validate(estimator=rfr, X=df_train, y=y, cv=kf, n_jobs = -1, scoring=mse_scorer))"
   ]
  },
  {
   "cell_type": "code",
   "execution_count": 41,
   "id": "bfa8262f",
   "metadata": {},
   "outputs": [
    {
     "data": {
      "text/plain": [
       "71309.81342915058"
      ]
     },
     "execution_count": 41,
     "metadata": {},
     "output_type": "execute_result"
    }
   ],
   "source": [
    "rfr = RandomForestRegressor(n_estimators=5, max_depth=18, n_jobs=-1, random_state=42)\n",
    "kf = KFold(shuffle=True, n_splits = 5, random_state = 42)\n",
    "score = cross_val_score(estimator=rfr, X=df_train, y=y, cv=kf, n_jobs = -1, scoring=mse_scorer)\n",
    "score.mean()"
   ]
  },
  {
   "cell_type": "code",
   "execution_count": 42,
   "id": "e48b601b",
   "metadata": {},
   "outputs": [
    {
     "data": {
      "text/html": [
       "<style>#sk-container-id-1 {color: black;background-color: white;}#sk-container-id-1 pre{padding: 0;}#sk-container-id-1 div.sk-toggleable {background-color: white;}#sk-container-id-1 label.sk-toggleable__label {cursor: pointer;display: block;width: 100%;margin-bottom: 0;padding: 0.3em;box-sizing: border-box;text-align: center;}#sk-container-id-1 label.sk-toggleable__label-arrow:before {content: \"▸\";float: left;margin-right: 0.25em;color: #696969;}#sk-container-id-1 label.sk-toggleable__label-arrow:hover:before {color: black;}#sk-container-id-1 div.sk-estimator:hover label.sk-toggleable__label-arrow:before {color: black;}#sk-container-id-1 div.sk-toggleable__content {max-height: 0;max-width: 0;overflow: hidden;text-align: left;background-color: #f0f8ff;}#sk-container-id-1 div.sk-toggleable__content pre {margin: 0.2em;color: black;border-radius: 0.25em;background-color: #f0f8ff;}#sk-container-id-1 input.sk-toggleable__control:checked~div.sk-toggleable__content {max-height: 200px;max-width: 100%;overflow: auto;}#sk-container-id-1 input.sk-toggleable__control:checked~label.sk-toggleable__label-arrow:before {content: \"▾\";}#sk-container-id-1 div.sk-estimator input.sk-toggleable__control:checked~label.sk-toggleable__label {background-color: #d4ebff;}#sk-container-id-1 div.sk-label input.sk-toggleable__control:checked~label.sk-toggleable__label {background-color: #d4ebff;}#sk-container-id-1 input.sk-hidden--visually {border: 0;clip: rect(1px 1px 1px 1px);clip: rect(1px, 1px, 1px, 1px);height: 1px;margin: -1px;overflow: hidden;padding: 0;position: absolute;width: 1px;}#sk-container-id-1 div.sk-estimator {font-family: monospace;background-color: #f0f8ff;border: 1px dotted black;border-radius: 0.25em;box-sizing: border-box;margin-bottom: 0.5em;}#sk-container-id-1 div.sk-estimator:hover {background-color: #d4ebff;}#sk-container-id-1 div.sk-parallel-item::after {content: \"\";width: 100%;border-bottom: 1px solid gray;flex-grow: 1;}#sk-container-id-1 div.sk-label:hover label.sk-toggleable__label {background-color: #d4ebff;}#sk-container-id-1 div.sk-serial::before {content: \"\";position: absolute;border-left: 1px solid gray;box-sizing: border-box;top: 0;bottom: 0;left: 50%;z-index: 0;}#sk-container-id-1 div.sk-serial {display: flex;flex-direction: column;align-items: center;background-color: white;padding-right: 0.2em;padding-left: 0.2em;position: relative;}#sk-container-id-1 div.sk-item {position: relative;z-index: 1;}#sk-container-id-1 div.sk-parallel {display: flex;align-items: stretch;justify-content: center;background-color: white;position: relative;}#sk-container-id-1 div.sk-item::before, #sk-container-id-1 div.sk-parallel-item::before {content: \"\";position: absolute;border-left: 1px solid gray;box-sizing: border-box;top: 0;bottom: 0;left: 50%;z-index: -1;}#sk-container-id-1 div.sk-parallel-item {display: flex;flex-direction: column;z-index: 1;position: relative;background-color: white;}#sk-container-id-1 div.sk-parallel-item:first-child::after {align-self: flex-end;width: 50%;}#sk-container-id-1 div.sk-parallel-item:last-child::after {align-self: flex-start;width: 50%;}#sk-container-id-1 div.sk-parallel-item:only-child::after {width: 0;}#sk-container-id-1 div.sk-dashed-wrapped {border: 1px dashed gray;margin: 0 0.4em 0.5em 0.4em;box-sizing: border-box;padding-bottom: 0.4em;background-color: white;}#sk-container-id-1 div.sk-label label {font-family: monospace;font-weight: bold;display: inline-block;line-height: 1.2em;}#sk-container-id-1 div.sk-label-container {text-align: center;}#sk-container-id-1 div.sk-container {/* jupyter's `normalize.less` sets `[hidden] { display: none; }` but bootstrap.min.css set `[hidden] { display: none !important; }` so we also need the `!important` here to be able to override the default hidden behavior on the sphinx rendered scikit-learn.org. See: https://github.com/scikit-learn/scikit-learn/issues/21755 */display: inline-block !important;position: relative;}#sk-container-id-1 div.sk-text-repr-fallback {display: none;}</style><div id=\"sk-container-id-1\" class=\"sk-top-container\"><div class=\"sk-text-repr-fallback\"><pre>RandomForestRegressor(max_depth=18, n_estimators=5, n_jobs=-1, random_state=42)</pre><b>In a Jupyter environment, please rerun this cell to show the HTML representation or trust the notebook. <br />On GitHub, the HTML representation is unable to render, please try loading this page with nbviewer.org.</b></div><div class=\"sk-container\" hidden><div class=\"sk-item\"><div class=\"sk-estimator sk-toggleable\"><input class=\"sk-toggleable__control sk-hidden--visually\" id=\"sk-estimator-id-1\" type=\"checkbox\" checked><label for=\"sk-estimator-id-1\" class=\"sk-toggleable__label sk-toggleable__label-arrow\">RandomForestRegressor</label><div class=\"sk-toggleable__content\"><pre>RandomForestRegressor(max_depth=18, n_estimators=5, n_jobs=-1, random_state=42)</pre></div></div></div></div></div>"
      ],
      "text/plain": [
       "RandomForestRegressor(max_depth=18, n_estimators=5, n_jobs=-1, random_state=42)"
      ]
     },
     "execution_count": 42,
     "metadata": {},
     "output_type": "execute_result"
    }
   ],
   "source": [
    "rfr.fit(df_train, y)"
   ]
  },
  {
   "cell_type": "code",
   "execution_count": 43,
   "id": "3f729fef",
   "metadata": {},
   "outputs": [],
   "source": [
    "y_pred = rfr.predict(df_train)"
   ]
  },
  {
   "cell_type": "code",
   "execution_count": 44,
   "id": "5092bee3",
   "metadata": {},
   "outputs": [],
   "source": [
    "feature_importances = pd.DataFrame(rfr.feature_importances_,\n",
    "                                   index = df_train.columns,\n",
    "                                    columns=['importance']).sort_values('importance',ascending=False)"
   ]
  },
  {
   "cell_type": "code",
   "execution_count": 45,
   "id": "0016e645",
   "metadata": {},
   "outputs": [
    {
     "data": {
      "text/html": [
       "<div>\n",
       "<style scoped>\n",
       "    .dataframe tbody tr th:only-of-type {\n",
       "        vertical-align: middle;\n",
       "    }\n",
       "\n",
       "    .dataframe tbody tr th {\n",
       "        vertical-align: top;\n",
       "    }\n",
       "\n",
       "    .dataframe thead th {\n",
       "        text-align: right;\n",
       "    }\n",
       "</style>\n",
       "<table border=\"1\" class=\"dataframe\">\n",
       "  <thead>\n",
       "    <tr style=\"text-align: right;\">\n",
       "      <th></th>\n",
       "      <th>importance</th>\n",
       "    </tr>\n",
       "  </thead>\n",
       "  <tbody>\n",
       "    <tr>\n",
       "      <th>trip_distance</th>\n",
       "      <td>0.811823</td>\n",
       "    </tr>\n",
       "    <tr>\n",
       "      <th>avg_speed_this_dayweek</th>\n",
       "      <td>0.096498</td>\n",
       "    </tr>\n",
       "    <tr>\n",
       "      <th>DOLocationID</th>\n",
       "      <td>0.033220</td>\n",
       "    </tr>\n",
       "    <tr>\n",
       "      <th>PULocationID</th>\n",
       "      <td>0.027630</td>\n",
       "    </tr>\n",
       "    <tr>\n",
       "      <th>pickup_minute</th>\n",
       "      <td>0.011702</td>\n",
       "    </tr>\n",
       "    <tr>\n",
       "      <th>pickup_hour</th>\n",
       "      <td>0.007038</td>\n",
       "    </tr>\n",
       "    <tr>\n",
       "      <th>pickup_week_hour</th>\n",
       "      <td>0.004855</td>\n",
       "    </tr>\n",
       "    <tr>\n",
       "      <th>avg_speed_this_hour</th>\n",
       "      <td>0.004299</td>\n",
       "    </tr>\n",
       "    <tr>\n",
       "      <th>avg_speed_this_day</th>\n",
       "      <td>0.001787</td>\n",
       "    </tr>\n",
       "    <tr>\n",
       "      <th>pickup_weekday</th>\n",
       "      <td>0.001146</td>\n",
       "    </tr>\n",
       "  </tbody>\n",
       "</table>\n",
       "</div>"
      ],
      "text/plain": [
       "                        importance\n",
       "trip_distance             0.811823\n",
       "avg_speed_this_dayweek    0.096498\n",
       "DOLocationID              0.033220\n",
       "PULocationID              0.027630\n",
       "pickup_minute             0.011702\n",
       "pickup_hour               0.007038\n",
       "pickup_week_hour          0.004855\n",
       "avg_speed_this_hour       0.004299\n",
       "avg_speed_this_day        0.001787\n",
       "pickup_weekday            0.001146"
      ]
     },
     "execution_count": 45,
     "metadata": {},
     "output_type": "execute_result"
    }
   ],
   "source": [
    "#check the most important data\n",
    "feature_importances.head(10)"
   ]
  },
  {
   "cell_type": "code",
   "execution_count": 46,
   "id": "4851a82b",
   "metadata": {},
   "outputs": [
    {
     "data": {
      "text/plain": [
       "array([1169.03492401,  708.27179811, 1064.77662304, ...,  901.66373547,\n",
       "        240.94294788,  325.68      ])"
      ]
     },
     "execution_count": 46,
     "metadata": {},
     "output_type": "execute_result"
    }
   ],
   "source": [
    "y_pred"
   ]
  },
  {
   "cell_type": "code",
   "execution_count": 47,
   "id": "650b4c78",
   "metadata": {},
   "outputs": [
    {
     "data": {
      "text/plain": [
       "0          1122.0\n",
       "1           829.0\n",
       "2           922.0\n",
       "3           563.0\n",
       "4           690.0\n",
       "            ...  \n",
       "3254427     331.0\n",
       "3254428     389.0\n",
       "3254429     816.0\n",
       "3254430     191.0\n",
       "3254431     316.0\n",
       "Name: trip_duration, Length: 3254432, dtype: float64"
      ]
     },
     "execution_count": 47,
     "metadata": {},
     "output_type": "execute_result"
    }
   ],
   "source": [
    "y"
   ]
  },
  {
   "cell_type": "code",
   "execution_count": 48,
   "id": "7c7c3176",
   "metadata": {},
   "outputs": [
    {
     "data": {
      "text/plain": [
       "157.77122731902028"
      ]
     },
     "execution_count": 48,
     "metadata": {},
     "output_type": "execute_result"
    }
   ],
   "source": [
    "(y_pred - y).abs().mean()"
   ]
  },
  {
   "cell_type": "markdown",
   "id": "ea34616b",
   "metadata": {},
   "source": [
    "So we got +- two minutes error"
   ]
  },
  {
   "cell_type": "markdown",
   "id": "07da7390",
   "metadata": {},
   "source": [
    "In API for users will be hard to find NYS locations, to let's reduse number of features:"
   ]
  },
  {
   "cell_type": "code",
   "execution_count": 49,
   "id": "9bedfd80",
   "metadata": {},
   "outputs": [
    {
     "data": {
      "text/html": [
       "<div>\n",
       "<style scoped>\n",
       "    .dataframe tbody tr th:only-of-type {\n",
       "        vertical-align: middle;\n",
       "    }\n",
       "\n",
       "    .dataframe tbody tr th {\n",
       "        vertical-align: top;\n",
       "    }\n",
       "\n",
       "    .dataframe thead th {\n",
       "        text-align: right;\n",
       "    }\n",
       "</style>\n",
       "<table border=\"1\" class=\"dataframe\">\n",
       "  <thead>\n",
       "    <tr style=\"text-align: right;\">\n",
       "      <th></th>\n",
       "      <th>VendorID</th>\n",
       "      <th>tpep_pickup_datetime</th>\n",
       "      <th>tpep_dropoff_datetime</th>\n",
       "      <th>passenger_count</th>\n",
       "      <th>trip_distance</th>\n",
       "      <th>RatecodeID</th>\n",
       "      <th>store_and_fwd_flag</th>\n",
       "      <th>PULocationID</th>\n",
       "      <th>DOLocationID</th>\n",
       "      <th>payment_type</th>\n",
       "      <th>fare_amount</th>\n",
       "      <th>extra</th>\n",
       "      <th>mta_tax</th>\n",
       "      <th>tip_amount</th>\n",
       "      <th>tolls_amount</th>\n",
       "      <th>improvement_surcharge</th>\n",
       "      <th>total_amount</th>\n",
       "      <th>congestion_surcharge</th>\n",
       "      <th>airport_fee</th>\n",
       "      <th>trip_duration_seconds</th>\n",
       "      <th>log_trip_duration</th>\n",
       "      <th>log_trip_distance</th>\n",
       "      <th>pickup_weekday</th>\n",
       "      <th>pickup_hour_weekofyear</th>\n",
       "      <th>pickup_hour</th>\n",
       "      <th>pickup_minute</th>\n",
       "      <th>pickup_dt</th>\n",
       "      <th>pickup_week_hour</th>\n",
       "      <th>avg_speed_h</th>\n",
       "      <th>avg_speed_m</th>\n",
       "      <th>avg_speed_this_hour</th>\n",
       "      <th>avg_speed_this_day</th>\n",
       "      <th>avg_speed_this_dayweek</th>\n",
       "      <th>Monday</th>\n",
       "      <th>Tuesday</th>\n",
       "      <th>Wednesda</th>\n",
       "      <th>Thursday</th>\n",
       "      <th>Friday</th>\n",
       "      <th>Saturday</th>\n",
       "      <th>Sunday</th>\n",
       "    </tr>\n",
       "  </thead>\n",
       "  <tbody>\n",
       "    <tr>\n",
       "      <th>0</th>\n",
       "      <td>1</td>\n",
       "      <td>2022-05-01 00:00:36</td>\n",
       "      <td>2022-05-01 00:19:18</td>\n",
       "      <td>1.0</td>\n",
       "      <td>6.598294</td>\n",
       "      <td>1.0</td>\n",
       "      <td>0</td>\n",
       "      <td>246</td>\n",
       "      <td>151</td>\n",
       "      <td>2</td>\n",
       "      <td>17.0</td>\n",
       "      <td>3.0</td>\n",
       "      <td>0.5</td>\n",
       "      <td>0.00</td>\n",
       "      <td>0.0</td>\n",
       "      <td>0.3</td>\n",
       "      <td>20.80</td>\n",
       "      <td>2.5</td>\n",
       "      <td>0.0</td>\n",
       "      <td>1122.0</td>\n",
       "      <td>7.023759</td>\n",
       "      <td>2.027924</td>\n",
       "      <td>6</td>\n",
       "      <td>17</td>\n",
       "      <td>0</td>\n",
       "      <td>0</td>\n",
       "      <td>609983670.0</td>\n",
       "      <td>144</td>\n",
       "      <td>21.170997</td>\n",
       "      <td>0.352850</td>\n",
       "      <td>25.262018</td>\n",
       "      <td>22.201269</td>\n",
       "      <td>22.424420</td>\n",
       "      <td>0.0</td>\n",
       "      <td>0.0</td>\n",
       "      <td>0.0</td>\n",
       "      <td>0.0</td>\n",
       "      <td>0.0</td>\n",
       "      <td>0.0</td>\n",
       "      <td>1.0</td>\n",
       "    </tr>\n",
       "    <tr>\n",
       "      <th>1</th>\n",
       "      <td>1</td>\n",
       "      <td>2022-05-01 00:27:44</td>\n",
       "      <td>2022-05-01 00:41:33</td>\n",
       "      <td>1.0</td>\n",
       "      <td>3.701482</td>\n",
       "      <td>1.0</td>\n",
       "      <td>0</td>\n",
       "      <td>238</td>\n",
       "      <td>74</td>\n",
       "      <td>2</td>\n",
       "      <td>11.0</td>\n",
       "      <td>3.0</td>\n",
       "      <td>0.5</td>\n",
       "      <td>0.00</td>\n",
       "      <td>0.0</td>\n",
       "      <td>0.3</td>\n",
       "      <td>14.80</td>\n",
       "      <td>2.5</td>\n",
       "      <td>0.0</td>\n",
       "      <td>829.0</td>\n",
       "      <td>6.721426</td>\n",
       "      <td>1.547878</td>\n",
       "      <td>6</td>\n",
       "      <td>17</td>\n",
       "      <td>0</td>\n",
       "      <td>27</td>\n",
       "      <td>609985298.0</td>\n",
       "      <td>144</td>\n",
       "      <td>16.073987</td>\n",
       "      <td>0.267900</td>\n",
       "      <td>25.262018</td>\n",
       "      <td>22.201269</td>\n",
       "      <td>22.424420</td>\n",
       "      <td>0.0</td>\n",
       "      <td>0.0</td>\n",
       "      <td>0.0</td>\n",
       "      <td>0.0</td>\n",
       "      <td>0.0</td>\n",
       "      <td>0.0</td>\n",
       "      <td>1.0</td>\n",
       "    </tr>\n",
       "    <tr>\n",
       "      <th>2</th>\n",
       "      <td>1</td>\n",
       "      <td>2022-05-01 00:59:00</td>\n",
       "      <td>2022-05-01 01:14:22</td>\n",
       "      <td>1.0</td>\n",
       "      <td>6.759228</td>\n",
       "      <td>1.0</td>\n",
       "      <td>0</td>\n",
       "      <td>163</td>\n",
       "      <td>260</td>\n",
       "      <td>2</td>\n",
       "      <td>15.5</td>\n",
       "      <td>3.0</td>\n",
       "      <td>0.5</td>\n",
       "      <td>0.00</td>\n",
       "      <td>0.0</td>\n",
       "      <td>0.3</td>\n",
       "      <td>19.30</td>\n",
       "      <td>2.5</td>\n",
       "      <td>0.0</td>\n",
       "      <td>922.0</td>\n",
       "      <td>6.827629</td>\n",
       "      <td>2.048883</td>\n",
       "      <td>6</td>\n",
       "      <td>17</td>\n",
       "      <td>0</td>\n",
       "      <td>59</td>\n",
       "      <td>609987174.0</td>\n",
       "      <td>144</td>\n",
       "      <td>26.391780</td>\n",
       "      <td>0.439863</td>\n",
       "      <td>25.262018</td>\n",
       "      <td>22.201269</td>\n",
       "      <td>22.424420</td>\n",
       "      <td>0.0</td>\n",
       "      <td>0.0</td>\n",
       "      <td>0.0</td>\n",
       "      <td>0.0</td>\n",
       "      <td>0.0</td>\n",
       "      <td>0.0</td>\n",
       "      <td>1.0</td>\n",
       "    </tr>\n",
       "    <tr>\n",
       "      <th>3</th>\n",
       "      <td>1</td>\n",
       "      <td>2022-05-01 00:28:26</td>\n",
       "      <td>2022-05-01 00:37:49</td>\n",
       "      <td>1.0</td>\n",
       "      <td>2.574944</td>\n",
       "      <td>1.0</td>\n",
       "      <td>0</td>\n",
       "      <td>238</td>\n",
       "      <td>75</td>\n",
       "      <td>1</td>\n",
       "      <td>7.5</td>\n",
       "      <td>3.0</td>\n",
       "      <td>0.5</td>\n",
       "      <td>2.25</td>\n",
       "      <td>0.0</td>\n",
       "      <td>0.3</td>\n",
       "      <td>13.55</td>\n",
       "      <td>2.5</td>\n",
       "      <td>0.0</td>\n",
       "      <td>563.0</td>\n",
       "      <td>6.335054</td>\n",
       "      <td>1.273950</td>\n",
       "      <td>6</td>\n",
       "      <td>17</td>\n",
       "      <td>0</td>\n",
       "      <td>28</td>\n",
       "      <td>609985340.0</td>\n",
       "      <td>144</td>\n",
       "      <td>16.465006</td>\n",
       "      <td>0.274417</td>\n",
       "      <td>25.262018</td>\n",
       "      <td>22.201269</td>\n",
       "      <td>22.424420</td>\n",
       "      <td>0.0</td>\n",
       "      <td>0.0</td>\n",
       "      <td>0.0</td>\n",
       "      <td>0.0</td>\n",
       "      <td>0.0</td>\n",
       "      <td>0.0</td>\n",
       "      <td>1.0</td>\n",
       "    </tr>\n",
       "    <tr>\n",
       "      <th>4</th>\n",
       "      <td>2</td>\n",
       "      <td>2022-04-30 23:53:47</td>\n",
       "      <td>2022-05-01 00:05:17</td>\n",
       "      <td>1.0</td>\n",
       "      <td>3.009466</td>\n",
       "      <td>1.0</td>\n",
       "      <td>0</td>\n",
       "      <td>249</td>\n",
       "      <td>164</td>\n",
       "      <td>1</td>\n",
       "      <td>9.5</td>\n",
       "      <td>0.5</td>\n",
       "      <td>0.5</td>\n",
       "      <td>2.66</td>\n",
       "      <td>0.0</td>\n",
       "      <td>0.3</td>\n",
       "      <td>15.96</td>\n",
       "      <td>2.5</td>\n",
       "      <td>0.0</td>\n",
       "      <td>690.0</td>\n",
       "      <td>6.538140</td>\n",
       "      <td>1.388658</td>\n",
       "      <td>5</td>\n",
       "      <td>17</td>\n",
       "      <td>23</td>\n",
       "      <td>53</td>\n",
       "      <td>609983261.0</td>\n",
       "      <td>143</td>\n",
       "      <td>15.701561</td>\n",
       "      <td>0.261693</td>\n",
       "      <td>23.967239</td>\n",
       "      <td>19.408069</td>\n",
       "      <td>20.252859</td>\n",
       "      <td>0.0</td>\n",
       "      <td>0.0</td>\n",
       "      <td>0.0</td>\n",
       "      <td>0.0</td>\n",
       "      <td>0.0</td>\n",
       "      <td>1.0</td>\n",
       "      <td>0.0</td>\n",
       "    </tr>\n",
       "  </tbody>\n",
       "</table>\n",
       "</div>"
      ],
      "text/plain": [
       "   VendorID tpep_pickup_datetime tpep_dropoff_datetime  passenger_count  trip_distance  RatecodeID  store_and_fwd_flag  PULocationID  DOLocationID  payment_type  fare_amount  extra  mta_tax  tip_amount  tolls_amount  improvement_surcharge  total_amount  congestion_surcharge  airport_fee  trip_duration_seconds  log_trip_duration  log_trip_distance  pickup_weekday  pickup_hour_weekofyear  pickup_hour  pickup_minute    pickup_dt  pickup_week_hour  avg_speed_h  avg_speed_m  avg_speed_this_hour  avg_speed_this_day  avg_speed_this_dayweek  Monday  Tuesday  Wednesda  Thursday  Friday  Saturday  Sunday\n",
       "0         1  2022-05-01 00:00:36   2022-05-01 00:19:18              1.0       6.598294         1.0                   0           246           151             2         17.0    3.0      0.5        0.00           0.0                    0.3         20.80                   2.5          0.0                 1122.0           7.023759           2.027924               6                      17            0              0  609983670.0               144    21.170997     0.352850            25.262018           22.201269               22.424420     0.0      0.0       0.0       0.0     0.0       0.0     1.0\n",
       "1         1  2022-05-01 00:27:44   2022-05-01 00:41:33              1.0       3.701482         1.0                   0           238            74             2         11.0    3.0      0.5        0.00           0.0                    0.3         14.80                   2.5          0.0                  829.0           6.721426           1.547878               6                      17            0             27  609985298.0               144    16.073987     0.267900            25.262018           22.201269               22.424420     0.0      0.0       0.0       0.0     0.0       0.0     1.0\n",
       "2         1  2022-05-01 00:59:00   2022-05-01 01:14:22              1.0       6.759228         1.0                   0           163           260             2         15.5    3.0      0.5        0.00           0.0                    0.3         19.30                   2.5          0.0                  922.0           6.827629           2.048883               6                      17            0             59  609987174.0               144    26.391780     0.439863            25.262018           22.201269               22.424420     0.0      0.0       0.0       0.0     0.0       0.0     1.0\n",
       "3         1  2022-05-01 00:28:26   2022-05-01 00:37:49              1.0       2.574944         1.0                   0           238            75             1          7.5    3.0      0.5        2.25           0.0                    0.3         13.55                   2.5          0.0                  563.0           6.335054           1.273950               6                      17            0             28  609985340.0               144    16.465006     0.274417            25.262018           22.201269               22.424420     0.0      0.0       0.0       0.0     0.0       0.0     1.0\n",
       "4         2  2022-04-30 23:53:47   2022-05-01 00:05:17              1.0       3.009466         1.0                   0           249           164             1          9.5    0.5      0.5        2.66           0.0                    0.3         15.96                   2.5          0.0                  690.0           6.538140           1.388658               5                      17           23             53  609983261.0               143    15.701561     0.261693            23.967239           19.408069               20.252859     0.0      0.0       0.0       0.0     0.0       1.0     0.0"
      ]
     },
     "execution_count": 49,
     "metadata": {},
     "output_type": "execute_result"
    }
   ],
   "source": [
    "df.head()"
   ]
  },
  {
   "cell_type": "code",
   "execution_count": 50,
   "id": "f573274d",
   "metadata": {},
   "outputs": [],
   "source": [
    "df_simple = df[['trip_distance', 'pickup_weekday', 'pickup_hour', 'pickup_minute', 'pickup_week_hour', 'avg_speed_this_hour', 'avg_speed_this_day', 'avg_speed_this_dayweek']]"
   ]
  },
  {
   "cell_type": "code",
   "execution_count": 51,
   "id": "f6938ffe",
   "metadata": {},
   "outputs": [
    {
     "data": {
      "text/html": [
       "<div>\n",
       "<style scoped>\n",
       "    .dataframe tbody tr th:only-of-type {\n",
       "        vertical-align: middle;\n",
       "    }\n",
       "\n",
       "    .dataframe tbody tr th {\n",
       "        vertical-align: top;\n",
       "    }\n",
       "\n",
       "    .dataframe thead th {\n",
       "        text-align: right;\n",
       "    }\n",
       "</style>\n",
       "<table border=\"1\" class=\"dataframe\">\n",
       "  <thead>\n",
       "    <tr style=\"text-align: right;\">\n",
       "      <th></th>\n",
       "      <th>trip_distance</th>\n",
       "      <th>pickup_weekday</th>\n",
       "      <th>pickup_hour</th>\n",
       "      <th>pickup_minute</th>\n",
       "      <th>pickup_week_hour</th>\n",
       "      <th>avg_speed_this_hour</th>\n",
       "      <th>avg_speed_this_day</th>\n",
       "      <th>avg_speed_this_dayweek</th>\n",
       "    </tr>\n",
       "  </thead>\n",
       "  <tbody>\n",
       "    <tr>\n",
       "      <th>0</th>\n",
       "      <td>6.598294</td>\n",
       "      <td>6</td>\n",
       "      <td>0</td>\n",
       "      <td>0</td>\n",
       "      <td>144</td>\n",
       "      <td>25.262018</td>\n",
       "      <td>22.201269</td>\n",
       "      <td>22.42442</td>\n",
       "    </tr>\n",
       "    <tr>\n",
       "      <th>1</th>\n",
       "      <td>3.701482</td>\n",
       "      <td>6</td>\n",
       "      <td>0</td>\n",
       "      <td>27</td>\n",
       "      <td>144</td>\n",
       "      <td>25.262018</td>\n",
       "      <td>22.201269</td>\n",
       "      <td>22.42442</td>\n",
       "    </tr>\n",
       "  </tbody>\n",
       "</table>\n",
       "</div>"
      ],
      "text/plain": [
       "   trip_distance  pickup_weekday  pickup_hour  pickup_minute  pickup_week_hour  avg_speed_this_hour  avg_speed_this_day  avg_speed_this_dayweek\n",
       "0       6.598294               6            0              0               144            25.262018           22.201269                22.42442\n",
       "1       3.701482               6            0             27               144            25.262018           22.201269                22.42442"
      ]
     },
     "execution_count": 51,
     "metadata": {},
     "output_type": "execute_result"
    }
   ],
   "source": [
    "df_simple.head(2)"
   ]
  },
  {
   "cell_type": "code",
   "execution_count": 52,
   "id": "f386fe68",
   "metadata": {},
   "outputs": [],
   "source": [
    "rfr.fit(df_simple, y)\n",
    "y_pred = rfr.predict(df_simple)"
   ]
  },
  {
   "cell_type": "code",
   "execution_count": 53,
   "id": "ff3c7089",
   "metadata": {},
   "outputs": [
    {
     "data": {
      "text/plain": [
       "185.22541126464537"
      ]
     },
     "execution_count": 53,
     "metadata": {},
     "output_type": "execute_result"
    }
   ],
   "source": [
    "(y_pred - y).abs().mean()"
   ]
  },
  {
   "cell_type": "markdown",
   "id": "d077426b",
   "metadata": {},
   "source": [
    "No big difference, we'll keep that"
   ]
  },
  {
   "cell_type": "code",
   "execution_count": null,
   "id": "e3474fa0",
   "metadata": {},
   "outputs": [],
   "source": []
  },
  {
   "cell_type": "markdown",
   "id": "def42c07",
   "metadata": {},
   "source": [
    "### Create functions"
   ]
  },
  {
   "cell_type": "markdown",
   "id": "639e3a72",
   "metadata": {},
   "source": [
    "First of all, let write functions to get statistiks data"
   ]
  },
  {
   "cell_type": "code",
   "execution_count": 79,
   "id": "8c779488",
   "metadata": {},
   "outputs": [],
   "source": [
    "#take new data to ensure function can run from prepare full dataset\n",
    "df = pd.read_parquet(\"../data/yellow_tripdata_2022-05.parquet\")"
   ]
  },
  {
   "cell_type": "code",
   "execution_count": 80,
   "id": "f2fa84b1",
   "metadata": {},
   "outputs": [],
   "source": [
    "def create_dfs(df):\n",
    "    df['trip_distance'] = df['trip_distance'] * 1.60934\n",
    "    df['tpep_pickup_datetime'] = pd.to_datetime(df.tpep_pickup_datetime)\n",
    "    df['tpep_dropoff_datetime'] = pd.to_datetime(df.tpep_dropoff_datetime)\n",
    "    df['trip_duration_seconds'] = df.apply(lambda x: (x.tpep_dropoff_datetime - x.tpep_pickup_datetime).total_seconds(), axis=1)\n",
    "    \n",
    "    durLimits  = [np.percentile(df['trip_duration_seconds'], 2), np.percentile(df['trip_duration_seconds'], 98.5)]\n",
    "    df = df[(df['trip_duration_seconds'] >= durLimits[0]) & (df['trip_duration_seconds'] <= durLimits[1])]\n",
    "\n",
    "    distLimits  = [np.percentile(df['trip_distance'], 1), np.percentile(df['trip_distance'], 98.5)]\n",
    "    df = df[(df['trip_distance'] >= distLimits[0]) & (df['trip_distance'] <= distLimits[1])]\n",
    "\n",
    "    df = df.reset_index(drop=True)\n",
    "    \n",
    "    \n",
    "    df['pickup_weekday'] = df['tpep_pickup_datetime'].dt.weekday\n",
    "    df['pickup_hour'] = df['tpep_pickup_datetime'].dt.hour\n",
    "    df['pickup_week_hour'] = df['pickup_weekday'] * 24 + df['pickup_hour']\n",
    "    \n",
    "    df.loc[:, 'avg_speed_h'] = df['trip_distance'] / (df['trip_duration_seconds'] / 3600)\n",
    "    \n",
    "    df_hours = df.groupby('pickup_hour').mean()['avg_speed_h']\n",
    "    df_weekday = df.groupby('pickup_weekday').mean()['avg_speed_h']\n",
    "    df_weekday_hour = df.groupby('pickup_week_hour').mean()['avg_speed_h']\n",
    "    \n",
    "    return [df_hours, df_weekday, df_weekday_hour]"
   ]
  },
  {
   "cell_type": "code",
   "execution_count": 83,
   "id": "6c6ddf7c",
   "metadata": {},
   "outputs": [],
   "source": [
    "df1, df2, df3 = create_dfs(df)"
   ]
  },
  {
   "cell_type": "code",
   "execution_count": 84,
   "id": "3c8fb180",
   "metadata": {},
   "outputs": [
    {
     "data": {
      "text/plain": [
       "pickup_hour\n",
       "0    40.654187\n",
       "1    41.129346\n",
       "2    41.174054\n",
       "3    43.937214\n",
       "4    52.853408\n",
       "Name: avg_speed_h, dtype: float64"
      ]
     },
     "execution_count": 84,
     "metadata": {},
     "output_type": "execute_result"
    }
   ],
   "source": [
    "df1.head()"
   ]
  },
  {
   "cell_type": "code",
   "execution_count": 85,
   "id": "0bd384b3",
   "metadata": {},
   "outputs": [
    {
     "data": {
      "text/plain": [
       "pickup_weekday\n",
       "0    32.807622\n",
       "1    28.621321\n",
       "2    28.208604\n",
       "3    27.983046\n",
       "4    28.640230\n",
       "Name: avg_speed_h, dtype: float64"
      ]
     },
     "execution_count": 85,
     "metadata": {},
     "output_type": "execute_result"
    }
   ],
   "source": [
    "df2.head()"
   ]
  },
  {
   "cell_type": "code",
   "execution_count": 86,
   "id": "849838e1",
   "metadata": {},
   "outputs": [
    {
     "data": {
      "text/plain": [
       "pickup_week_hour\n",
       "0    51.515375\n",
       "1    50.525219\n",
       "2    48.377978\n",
       "3    53.152688\n",
       "4    61.595791\n",
       "Name: avg_speed_h, dtype: float64"
      ]
     },
     "execution_count": 86,
     "metadata": {},
     "output_type": "execute_result"
    }
   ],
   "source": [
    "df3.head()"
   ]
  },
  {
   "cell_type": "markdown",
   "id": "dbc965e7",
   "metadata": {},
   "source": [
    "### Model implentation "
   ]
  },
  {
   "cell_type": "code",
   "execution_count": 88,
   "id": "9c732256",
   "metadata": {},
   "outputs": [
    {
     "data": {
      "text/plain": [
       "['../data/model.joblib']"
      ]
     },
     "execution_count": 88,
     "metadata": {},
     "output_type": "execute_result"
    }
   ],
   "source": [
    "from joblib import dump, load\n",
    "dump(rfr, '../data/model.joblib')"
   ]
  },
  {
   "cell_type": "markdown",
   "id": "3d8c2823",
   "metadata": {},
   "source": [
    "### Function preparation"
   ]
  },
  {
   "cell_type": "code",
   "execution_count": 2,
   "id": "d1235b39",
   "metadata": {},
   "outputs": [],
   "source": [
    "from joblib import dump, load\n",
    "clf = load('../data/model.joblib') "
   ]
  },
  {
   "cell_type": "code",
   "execution_count": 3,
   "id": "05264e13",
   "metadata": {},
   "outputs": [
    {
     "data": {
      "text/plain": [
       "sklearn.ensemble._forest.RandomForestRegressor"
      ]
     },
     "execution_count": 3,
     "metadata": {},
     "output_type": "execute_result"
    }
   ],
   "source": [
    "type(clf)"
   ]
  },
  {
   "cell_type": "code",
   "execution_count": 91,
   "id": "09454291",
   "metadata": {
    "scrolled": false
   },
   "outputs": [
    {
     "data": {
      "text/html": [
       "<div>\n",
       "<style scoped>\n",
       "    .dataframe tbody tr th:only-of-type {\n",
       "        vertical-align: middle;\n",
       "    }\n",
       "\n",
       "    .dataframe tbody tr th {\n",
       "        vertical-align: top;\n",
       "    }\n",
       "\n",
       "    .dataframe thead th {\n",
       "        text-align: right;\n",
       "    }\n",
       "</style>\n",
       "<table border=\"1\" class=\"dataframe\">\n",
       "  <thead>\n",
       "    <tr style=\"text-align: right;\">\n",
       "      <th></th>\n",
       "      <th>trip_distance</th>\n",
       "      <th>pickup_weekday</th>\n",
       "      <th>pickup_hour</th>\n",
       "      <th>pickup_minute</th>\n",
       "      <th>pickup_week_hour</th>\n",
       "      <th>avg_speed_this_hour</th>\n",
       "      <th>avg_speed_this_day</th>\n",
       "      <th>avg_speed_this_dayweek</th>\n",
       "    </tr>\n",
       "  </thead>\n",
       "  <tbody>\n",
       "    <tr>\n",
       "      <th>0</th>\n",
       "      <td>6.598294</td>\n",
       "      <td>6</td>\n",
       "      <td>0</td>\n",
       "      <td>0</td>\n",
       "      <td>144</td>\n",
       "      <td>25.262018</td>\n",
       "      <td>22.201269</td>\n",
       "      <td>22.42442</td>\n",
       "    </tr>\n",
       "  </tbody>\n",
       "</table>\n",
       "</div>"
      ],
      "text/plain": [
       "   trip_distance  pickup_weekday  pickup_hour  pickup_minute  pickup_week_hour  avg_speed_this_hour  avg_speed_this_day  avg_speed_this_dayweek\n",
       "0       6.598294               6            0              0               144            25.262018           22.201269                22.42442"
      ]
     },
     "execution_count": 91,
     "metadata": {},
     "output_type": "execute_result"
    }
   ],
   "source": [
    "df_simple.head(1)"
   ]
  },
  {
   "cell_type": "code",
   "execution_count": 7,
   "id": "6c468477",
   "metadata": {},
   "outputs": [],
   "source": [
    "import joblib\n",
    "def getForest(filepath):\n",
    "    forest = joblib.load('../data/model.joblib') \n",
    "    return forest"
   ]
  },
  {
   "cell_type": "code",
   "execution_count": 8,
   "id": "4f1d2903",
   "metadata": {},
   "outputs": [],
   "source": [
    "forest = getForest('../data/model.joblib')"
   ]
  },
  {
   "cell_type": "code",
   "execution_count": 9,
   "id": "43763a7f",
   "metadata": {},
   "outputs": [
    {
     "data": {
      "text/plain": [
       "sklearn.ensemble._forest.RandomForestRegressor"
      ]
     },
     "execution_count": 9,
     "metadata": {},
     "output_type": "execute_result"
    }
   ],
   "source": [
    "type(forest)"
   ]
  },
  {
   "cell_type": "code",
   "execution_count": null,
   "id": "b59adea3",
   "metadata": {},
   "outputs": [],
   "source": []
  },
  {
   "cell_type": "code",
   "execution_count": 94,
   "id": "d49ea43a",
   "metadata": {},
   "outputs": [],
   "source": [
    "def getStatistiksForHour(hour):\n",
    "    avg = average_speed_hour_dict.get(hour)\n",
    "    return avg\n",
    "def getStatistiksForDay(day):\n",
    "    avg = average_speed_weekday_dict.get(day)\n",
    "    return avg\n",
    "def getStatistiksForWeekHour(weekHour):\n",
    "    avg = average_speed_weekday_hour_dict.get(weekHour)\n",
    "    return avg"
   ]
  },
  {
   "cell_type": "code",
   "execution_count": 14,
   "id": "bb52d844",
   "metadata": {},
   "outputs": [],
   "source": [
    "def calculate(forest, tripDistance, day, hour, minute):\n",
    "    mapDict = {\"monday\" : 0,\n",
    "               \"tuesday\" : 1,\n",
    "               \"wednesday\" : 2,\n",
    "               \"thursday\" : 3,\n",
    "               \"friday\" : 4,\n",
    "               \"saturday\" : 5,\n",
    "               \"sunday\" : 6}\n",
    "    day = mapDict.get(day.lower())\n",
    "    weekHour = day * 24 + hour\n",
    "    avgSpeedThisHour = 20 #getStatistiksForHour(hour)\n",
    "    avgSpeedThisDay = 20 #getStatistiksForDay(day)\n",
    "    avgSpeedThisWeekHour= 20 #getStatistiksForWeekHour(weekHour)\n",
    "    featureDict = {'trip_distance' : [tripDistance],\n",
    "                   'pickup_weekday': [day],\n",
    "                   'pickup_hour': [hour],\n",
    "                   'pickup_minute' : [minute],\n",
    "                   'pickup_week_hour' : [weekHour],\n",
    "                   'avg_speed_this_hour' : [avgSpeedThisHour],\n",
    "                   'avg_speed_this_day' : [avgSpeedThisDay],\n",
    "                   'avg_speed_this_dayweek' : [avgSpeedThisWeekHour]}\n",
    "    df = pd.DataFrame.from_dict(featureDict)\n",
    "    forest = joblib.load('../data/model.joblib') \n",
    "    time = forest.predict(df)\n",
    "    return time / 60"
   ]
  },
  {
   "cell_type": "code",
   "execution_count": 16,
   "id": "7c760852",
   "metadata": {},
   "outputs": [],
   "source": [
    "import pandas as pd"
   ]
  },
  {
   "cell_type": "code",
   "execution_count": 17,
   "id": "c53777ae",
   "metadata": {},
   "outputs": [
    {
     "data": {
      "text/plain": [
       "array([19.17844136])"
      ]
     },
     "execution_count": 17,
     "metadata": {},
     "output_type": "execute_result"
    }
   ],
   "source": [
    "calculate(clf, 6, \"Monday\", 12, 20)"
   ]
  },
  {
   "cell_type": "code",
   "execution_count": null,
   "id": "c904f4f4",
   "metadata": {},
   "outputs": [],
   "source": []
  }
 ],
 "metadata": {
  "kernelspec": {
   "display_name": "Python 3.9.7 64-bit",
   "language": "python",
   "name": "python3"
  },
  "language_info": {
   "codemirror_mode": {
    "name": "ipython",
    "version": 3
   },
   "file_extension": ".py",
   "mimetype": "text/x-python",
   "name": "python",
   "nbconvert_exporter": "python",
   "pygments_lexer": "ipython3",
   "version": "3.9.7"
  },
  "vscode": {
   "interpreter": {
    "hash": "11938c6bc6919ae2720b4d5011047913343b08a43b18698fd82dedb0d4417594"
   }
  }
 },
 "nbformat": 4,
 "nbformat_minor": 5
}
